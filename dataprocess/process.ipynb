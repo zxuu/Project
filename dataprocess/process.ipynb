{
 "cells": [
  {
   "attachments": {},
   "cell_type": "markdown",
   "metadata": {},
   "source": [
    "### JSON文件写为TXT训练文件"
   ]
  },
  {
   "cell_type": "code",
   "execution_count": 1,
   "metadata": {},
   "outputs": [],
   "source": [
    "import json"
   ]
  },
  {
   "cell_type": "code",
   "execution_count": 8,
   "metadata": {},
   "outputs": [
    {
     "name": "stdout",
     "output_type": "stream",
     "text": [
      "{'text': '陈虎：隐形无人机可破解攻击航母情报信息问题', 'id': 13631, 'label': [{'start': 0, 'end': 2, 'text': '陈虎', 'labels': ['人名']}, {'start': 3, 'end': 8, 'text': '隐形无人机', 'labels': ['武器装备']}, {'start': 13, 'end': 15, 'text': '航母', 'labels': ['武器装备']}], 'annotator': 1, 'annotation_id': 367, 'created_at': '2023-05-23T05:43:37.063275Z', 'updated_at': '2023-05-23T05:43:37.064275Z', 'lead_time': 16.157}\n"
     ]
    }
   ],
   "source": [
    "file_from = open('../data_pre/train_data3.json', 'r', encoding='utf-8')\n",
    "data = json.load(file_from)\n",
    "print(data[0])"
   ]
  },
  {
   "cell_type": "code",
   "execution_count": 13,
   "metadata": {},
   "outputs": [
    {
     "data": {
      "text/plain": [
       "'陈虎：隐形无人机可破解攻击航母情报信息问题'"
      ]
     },
     "execution_count": 13,
     "metadata": {},
     "output_type": "execute_result"
    }
   ],
   "source": [
    "data[0]['text'].replace(' ', '')"
   ]
  },
  {
   "cell_type": "code",
   "execution_count": 15,
   "metadata": {},
   "outputs": [],
   "source": [
    "dict_label = {\n",
    "    '时间':'TIM',\n",
    "    '人名':'PER',\n",
    "    '职位':'POS',\n",
    "    '国家':'COU',\n",
    "    '组织机构':'ORG',\n",
    "    '地点':'LOC',\n",
    "    '武器装备':'EQU',\n",
    "    '文件名':'FIL',\n",
    "    '会议名称':'MET',\n",
    "    '数量词':'NUM',\n",
    "    '宗教信仰':'XY',\n",
    "    '情感':'EMO',\n",
    "    '事件':'SJ',\n",
    "    '技术':'JS',\n",
    "    '装备能力':'ECA'\n",
    "}"
   ]
  },
  {
   "cell_type": "code",
   "execution_count": 18,
   "metadata": {},
   "outputs": [],
   "source": [
    "file_2 = open('train_data3.txt', 'a', encoding='utf-8')\n",
    "for data_json in data:\n",
    "    #去掉空格\n",
    "    # text = data_json['text']\n",
    "    # text = text.replace(' ', '')\n",
    "    # text = text.replace('   ', '')\n",
    "\n",
    "    lenght = len(data_json['text'])\n",
    "    label_o = ['O'] * lenght\n",
    "    if 'label' in data_json:\n",
    "        for span in data_json['label']:\n",
    "            start = span['start']\n",
    "            end = span['end']\n",
    "            l = span['labels'][0]\n",
    "            for _ in range(start, end):\n",
    "                label_o[_] = 'I-' + dict_label[l]\n",
    "            label_o[start] = 'B-' + dict_label[l]\n",
    "        # print(label_o)\n",
    "        text = []\n",
    "        for _ in range(lenght):\n",
    "            text.append(data_json['text'][_])\n",
    "        # print(text)\n",
    "        # print(len(text))\n",
    "        # print(len(label_o))\n",
    "\n",
    "        line_json = {}\n",
    "        line_json['text'] = text\n",
    "        line_json['labels'] = label_o\n",
    "        file_2.writelines(json.dumps(line_json))\n",
    "        file_2.writelines('\\n')\n",
    "    \n",
    "file_2.close()"
   ]
  },
  {
   "cell_type": "code",
   "execution_count": 11,
   "metadata": {},
   "outputs": [
    {
     "name": "stdout",
     "output_type": "stream",
     "text": [
      "1\n",
      "2\n"
     ]
    }
   ],
   "source": [
    "for _ in range(1, 3):\n",
    "    print(_)"
   ]
  },
  {
   "cell_type": "code",
   "execution_count": 17,
   "metadata": {},
   "outputs": [],
   "source": [
    "file_2.close()"
   ]
  },
  {
   "cell_type": "code",
   "execution_count": 12,
   "metadata": {},
   "outputs": [
    {
     "name": "stdout",
     "output_type": "stream",
     "text": [
      "今天天气好好呀！\n"
     ]
    }
   ],
   "source": [
    "s = '今天天气好 好呀！87jeroijrf8 7uu12 8p l;'\n",
    "s = s.replace(' ', '')\n",
    "print(s)"
   ]
  },
  {
   "attachments": {},
   "cell_type": "markdown",
   "metadata": {},
   "source": [
    "## 文档多少个句子"
   ]
  },
  {
   "cell_type": "code",
   "execution_count": 6,
   "metadata": {},
   "outputs": [
    {
     "ename": "FileNotFoundError",
     "evalue": "[Errno 2] No such file or directory: 'E:/A文本标注/My_Data/Chinese/NER/Military/军事报道.txt'",
     "output_type": "error",
     "traceback": [
      "\u001b[1;31m---------------------------------------------------------------------------\u001b[0m",
      "\u001b[1;31mFileNotFoundError\u001b[0m                         Traceback (most recent call last)",
      "\u001b[1;32m~\\AppData\\Local\\Temp\\ipykernel_6604\\911310199.py\u001b[0m in \u001b[0;36m<module>\u001b[1;34m\u001b[0m\n\u001b[0;32m      2\u001b[0m \u001b[0mi\u001b[0m \u001b[1;33m=\u001b[0m \u001b[1;36m0\u001b[0m\u001b[1;33m\u001b[0m\u001b[1;33m\u001b[0m\u001b[0m\n\u001b[0;32m      3\u001b[0m \u001b[1;31m# file_write = open('data1.txt', 'a', encoding='utf-8')\u001b[0m\u001b[1;33m\u001b[0m\u001b[1;33m\u001b[0m\u001b[1;33m\u001b[0m\u001b[0m\n\u001b[1;32m----> 4\u001b[1;33m \u001b[1;32mfor\u001b[0m \u001b[0mline\u001b[0m \u001b[1;32min\u001b[0m  \u001b[0mopen\u001b[0m\u001b[1;33m(\u001b[0m\u001b[1;34m'E:/A文本标注/My_Data/Chinese/NER/Military/军事报道.txt'\u001b[0m\u001b[1;33m.\u001b[0m\u001b[0mreplace\u001b[0m\u001b[1;33m(\u001b[0m\u001b[1;34m'\\\\'\u001b[0m\u001b[1;33m,\u001b[0m \u001b[1;34m'/'\u001b[0m\u001b[1;33m)\u001b[0m\u001b[1;33m,\u001b[0m \u001b[1;34m'r'\u001b[0m\u001b[1;33m,\u001b[0m \u001b[0mencoding\u001b[0m\u001b[1;33m=\u001b[0m\u001b[1;34m'utf-8'\u001b[0m\u001b[1;33m)\u001b[0m\u001b[1;33m:\u001b[0m\u001b[1;33m\u001b[0m\u001b[1;33m\u001b[0m\u001b[0m\n\u001b[0m\u001b[0;32m      5\u001b[0m     \u001b[1;32mif\u001b[0m \u001b[0mline\u001b[0m\u001b[1;33m.\u001b[0m\u001b[0mstrip\u001b[0m\u001b[1;33m(\u001b[0m\u001b[1;33m)\u001b[0m \u001b[1;33m!=\u001b[0m \u001b[1;34m''\u001b[0m\u001b[1;33m:\u001b[0m\u001b[1;33m\u001b[0m\u001b[1;33m\u001b[0m\u001b[0m\n\u001b[0;32m      6\u001b[0m         \u001b[1;31m# print(line.strip())\u001b[0m\u001b[1;33m\u001b[0m\u001b[1;33m\u001b[0m\u001b[1;33m\u001b[0m\u001b[0m\n",
      "\u001b[1;31mFileNotFoundError\u001b[0m: [Errno 2] No such file or directory: 'E:/A文本标注/My_Data/Chinese/NER/Military/军事报道.txt'"
     ]
    }
   ],
   "source": [
    "j = 0\n",
    "i = 0\n",
    "# file_write = open('data1.txt', 'a', encoding='utf-8')\n",
    "for line in  open('E:/A文本标注/My_Data/Chinese/NER/Military/军事报道.txt'.replace('\\\\', '/'), 'r', encoding='utf-8'):\n",
    "    if line.strip() != '':\n",
    "        # print(line.strip())\n",
    "        # i = i+1\n",
    "        # if i>10:\n",
    "        #     break\n",
    "        j = j + len(line.split('.'))\n",
    "\n",
    "\n",
    "print(j)\n",
    "    \n",
    "# file_write.close()\n",
    "# f.close()"
   ]
  },
  {
   "attachments": {},
   "cell_type": "markdown",
   "metadata": {},
   "source": [
    "#### 将TXT文件处理成平台标记的TXT文件"
   ]
  },
  {
   "cell_type": "code",
   "execution_count": null,
   "metadata": {},
   "outputs": [],
   "source": [
    "f=open('E:\\A文本标注\\My_Data\\data1\\中文', encoding='utf-8')\n"
   ]
  },
  {
   "cell_type": "code",
   "execution_count": null,
   "metadata": {},
   "outputs": [],
   "source": [
    "i=0\n",
    "for line in f:\n",
    "    if line !='':\n",
    "        print(line)\n",
    "        print('.........')\n",
    "        i = i + 1\n",
    "        if i>6:\n",
    "            break\n"
   ]
  },
  {
   "cell_type": "code",
   "execution_count": 12,
   "metadata": {},
   "outputs": [],
   "source": [
    "j = 0\n",
    "file_write = open('E:\\A文本标注\\My_Data\\data1\\中文\\军事政治报道.txt', 'a', encoding='utf-8')\n",
    "with open('E:/A文本标注/My_Data/Chinese/NER/Military/军事报道.txt', 'r', encoding='utf-8') as f:\n",
    "    while j<20000:\n",
    "        data = f.readline().strip()    #按行读取文件（去掉首尾空格）\n",
    "        if data != '':    # 如果不是空字符串\n",
    "            data_split = data.split('。')    #文档按句子切分\n",
    "            for line in data_split:    #对于每一个句子\n",
    "                # print(line)\n",
    "                if j>10000:\n",
    "                    line = line.strip().replace('　　', '#')\n",
    "                    line = line.replace(' ', '')\n",
    "                    file_write.writelines(line.strip())\n",
    "                    file_write.writelines('\\n')\n",
    "                j = j+1\n",
    "        \n",
    "    \n",
    "file_write.close()\n",
    "f.close()"
   ]
  },
  {
   "cell_type": "code",
   "execution_count": 2,
   "metadata": {},
   "outputs": [
    {
     "data": {
      "text/plain": [
       "str"
      ]
     },
     "execution_count": 2,
     "metadata": {},
     "output_type": "execute_result"
    }
   ],
   "source": [
    "type('　')"
   ]
  },
  {
   "cell_type": "code",
   "execution_count": 11,
   "metadata": {},
   "outputs": [],
   "source": [
    "file_write.close()\n",
    "f.close()"
   ]
  },
  {
   "attachments": {},
   "cell_type": "markdown",
   "metadata": {},
   "source": [
    "#### 一句一行（中文）"
   ]
  },
  {
   "cell_type": "code",
   "execution_count": 10,
   "metadata": {},
   "outputs": [],
   "source": [
    "j = 0\n",
    "file_write = open('E:\\A文本标注\\My_Data\\data1\\中文\\南京理工.txt', 'a', encoding='utf-8')\n",
    "for line in open('E:/A文本标注/My_Data/Chinese/Docs/NJLG_news/MilitrayNews.txt', 'r', encoding='utf-8'):\n",
    "    data = line.strip()    #按行读取文件（去掉首尾空格）\n",
    "    if data != '':    # 如果不是空字符串\n",
    "        data_split = data.split('。')    #文档按句子切分\n",
    "        for line in data_split:    #对于每一个句子\n",
    "            # print(line)\n",
    "            line = line.strip().replace('　　', '#')\n",
    "            line = line.replace(' ', '')\n",
    "            file_write.writelines(line.strip())\n",
    "            file_write.writelines('\\n')\n",
    "            j = j+1\n",
    "    \n",
    "file_write.close()"
   ]
  },
  {
   "attachments": {},
   "cell_type": "markdown",
   "metadata": {},
   "source": [
    "#### 一句一行（英文）"
   ]
  },
  {
   "cell_type": "code",
   "execution_count": 33,
   "metadata": {},
   "outputs": [
    {
     "name": "stdout",
     "output_type": "stream",
     "text": [
      "5525668\n"
     ]
    }
   ],
   "source": [
    "j = 0\n",
    "file_write = open('E:\\A文本标注\\My_Data\\data1\\英文\\ALLSides超党派检测(左翼、中、右翼).txt', 'a', encoding='utf-8')\n",
    "for line in open('E:\\A文本标注\\My_Data\\English\\Docs\\ALLSides超党派检测.txt', 'r', encoding='utf-8'):\n",
    "    data = line.strip()    #按行读取文件（去掉首尾空格）\n",
    "    if data != '':    # 如果不是空字符串\n",
    "        data_split = data.split('.')    #文档按句子切分\n",
    "        for line in data_split:    #对于每一个句子\n",
    "            # print(line)\n",
    "            if line != '' and len(line)>20:\n",
    "                file_write.writelines(line.strip())\n",
    "                file_write.writelines('\\n')\n",
    "                j = j+1\n",
    "\n",
    "file_write.close()\n",
    "print(j)"
   ]
  }
 ],
 "metadata": {
  "kernelspec": {
   "display_name": "base",
   "language": "python",
   "name": "python3"
  },
  "language_info": {
   "codemirror_mode": {
    "name": "ipython",
    "version": 3
   },
   "file_extension": ".py",
   "mimetype": "text/x-python",
   "name": "python",
   "nbconvert_exporter": "python",
   "pygments_lexer": "ipython3",
   "version": "3.7.15"
  },
  "orig_nbformat": 4
 },
 "nbformat": 4,
 "nbformat_minor": 2
}
