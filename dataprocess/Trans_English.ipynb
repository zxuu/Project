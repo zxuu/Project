{
 "cells": [
  {
   "cell_type": "markdown",
   "metadata": {
    "collapsed": true,
    "pycharm": {
     "name": "#%% md\n"
    }
   },
   "source": [
    "## 读取JSON"
   ]
  },
  {
   "cell_type": "code",
   "execution_count": 1,
   "outputs": [],
   "source": [
    "# import sys\n",
    "# from typing import Tuple, List\n",
    "import json\n",
    "import ijson\n",
    "import pandas as pd\n",
    "\n",
    "# import re\n",
    "# import emoji\n",
    "# import nltk\n",
    "import os\n",
    "# nltk.download('words')\n",
    "# words = set(nltk.corpus.words.words())"
   ],
   "metadata": {
    "collapsed": false,
    "pycharm": {
     "name": "#%%\n"
    }
   }
  },
  {
   "cell_type": "markdown",
   "source": [
    "## 小文件按行读取"
   ],
   "metadata": {
    "collapsed": false
   }
  },
  {
   "cell_type": "code",
   "execution_count": 40,
   "outputs": [],
   "source": [
    "sum_docs = 0"
   ],
   "metadata": {
    "collapsed": false,
    "pycharm": {
     "name": "#%%\n"
    }
   }
  },
  {
   "cell_type": "code",
   "execution_count": 57,
   "outputs": [],
   "source": [
    "file_from = open('./数据集/muc34(抗议新闻）√/muc34/TASK/CORPORA/tst4/tst4-muc4', 'r', encoding='utf-8')\n",
    "file_to = open('./MyData/English/Docs/muc34/muc34(拉美抗议新闻).txt', 'a', encoding='utf-8')\n",
    "lines = file_from.readlines()\n",
    "last_line = ''\n",
    "for line in lines:\n",
    "    if last_line != '\\n' and line=='\\n':\n",
    "        sum_docs = sum_docs + 1\n",
    "        last_line = line\n",
    "        continue\n",
    "    file_to.writelines(line)\n",
    "    last_line = line\n",
    "\n",
    "file_from.close()\n",
    "file_to.close()"
   ],
   "metadata": {
    "collapsed": false,
    "pycharm": {
     "name": "#%%\n"
    }
   }
  },
  {
   "cell_type": "markdown",
   "source": [
    "# 按行读取JSON文件"
   ],
   "metadata": {
    "collapsed": false,
    "pycharm": {
     "name": "#%% md\n"
    }
   }
  },
  {
   "cell_type": "code",
   "execution_count": null,
   "outputs": [],
   "source": [
    "for line in open('./数据集/FewREL/fewrel_train.json','r',encoding='utf-8'):\n",
    "    json_data.append(json.loads(line))"
   ],
   "metadata": {
    "collapsed": false,
    "pycharm": {
     "name": "#%%\n"
    }
   }
  },
  {
   "cell_type": "code",
   "execution_count": 25,
   "outputs": [],
   "source": [
    "sum_lines = 0\n",
    "file_to = open('./MyData/English/Lines/FewREL/FewREL.txt', 'a', encoding='utf-8')\n",
    "for lists in json_data[0].values():\n",
    "    for item in lists:\n",
    "        file_to.writelines(' '.join(item['tokens']).replace('\\n' , '\\\\n'))\n",
    "        sum_lines = sum_lines + 1\n",
    "        file_to.writelines('\\n')\n",
    "file_to.close()"
   ],
   "metadata": {
    "collapsed": false,
    "pycharm": {
     "name": "#%%\n"
    }
   }
  },
  {
   "cell_type": "code",
   "execution_count": 6,
   "outputs": [],
   "source": [
    "data_json = []\n",
    "for dic in json_data:\n",
    "    word_list = dic['tokens']\n",
    "    length = len(word_list)\n",
    "    k = 1\n",
    "    for i in range(length-1):\n",
    "        word_list.insert(i+k, ' ')\n",
    "        k = k + 1\n",
    "    data_json.append(dic['tokens'])"
   ],
   "metadata": {
    "collapsed": false,
    "pycharm": {
     "name": "#%%\n"
    }
   }
  },
  {
   "cell_type": "code",
   "execution_count": 4,
   "outputs": [
    {
     "name": "stdout",
     "output_type": "stream",
     "text": [
      "0\n",
      "1\n",
      "2\n"
     ]
    }
   ],
   "source": [
    "for i in range(3):\n",
    "    print(i)"
   ],
   "metadata": {
    "collapsed": false,
    "pycharm": {
     "name": "#%%\n"
    }
   }
  },
  {
   "cell_type": "markdown",
   "source": [
    "## 读取大的JSON文件"
   ],
   "metadata": {
    "collapsed": false,
    "pycharm": {
     "name": "#%% md\n"
    }
   }
  },
  {
   "cell_type": "code",
   "execution_count": 29,
   "outputs": [],
   "source": [
    "import ijson\n",
    "import os\n",
    "import json\n"
   ],
   "metadata": {
    "collapsed": false,
    "pycharm": {
     "name": "#%%\n"
    }
   }
  },
  {
   "cell_type": "code",
   "execution_count": 16,
   "outputs": [
    {
     "ename": "TypeError",
     "evalue": "'_yajl2.kvitems' object is not subscriptable",
     "output_type": "error",
     "traceback": [
      "\u001B[1;31m---------------------------------------------------------------------------\u001B[0m",
      "\u001B[1;31mTypeError\u001B[0m                                 Traceback (most recent call last)",
      "\u001B[1;32m<ipython-input-16-2ceb108567d2>\u001B[0m in \u001B[0;36m<module>\u001B[1;34m()\u001B[0m\n\u001B[0;32m      8\u001B[0m     \u001B[0mitem\u001B[0m \u001B[1;33m=\u001B[0m \u001B[0mijson\u001B[0m\u001B[1;33m.\u001B[0m\u001B[0mkvitems\u001B[0m\u001B[1;33m(\u001B[0m\u001B[0mf\u001B[0m\u001B[1;33m,\u001B[0m \u001B[1;34m''\u001B[0m\u001B[1;33m)\u001B[0m\u001B[1;33m\u001B[0m\u001B[0m\n\u001B[0;32m      9\u001B[0m     \u001B[1;31m# print(item[0]['text'])\u001B[0m\u001B[1;33m\u001B[0m\u001B[1;33m\u001B[0m\u001B[0m\n\u001B[1;32m---> 10\u001B[1;33m     \u001B[1;32mfor\u001B[0m \u001B[0mk\u001B[0m\u001B[1;33m,\u001B[0m\u001B[0mv\u001B[0m \u001B[1;32min\u001B[0m \u001B[0mitem\u001B[0m\u001B[1;33m[\u001B[0m\u001B[1;36m0\u001B[0m\u001B[1;33m]\u001B[0m\u001B[1;33m:\u001B[0m\u001B[1;33m\u001B[0m\u001B[0m\n\u001B[0m\u001B[0;32m     11\u001B[0m         \u001B[0mprint\u001B[0m\u001B[1;33m(\u001B[0m\u001B[0mk\u001B[0m\u001B[1;33m,\u001B[0m\u001B[0mv\u001B[0m\u001B[1;33m)\u001B[0m\u001B[1;33m\u001B[0m\u001B[0m\n\u001B[0;32m     12\u001B[0m \u001B[1;33m\u001B[0m\u001B[0m\n",
      "\u001B[1;31mTypeError\u001B[0m: '_yajl2.kvitems' object is not subscriptable"
     ]
    }
   ],
   "source": [
    "path = \"data2_1000.json\" #文件夹目录\n",
    "files= os.listdir(path) #得到文件夹下的所有文件名称\n",
    "for file in files:\n",
    "    file2 = './tttt.txt'\n",
    "    file_w = open(file2, 'a', encoding='utf-8')\n",
    "    with open(path, 'r') as f:\n",
    "        item = ijson.kvitems(f, '')\n",
    "        i=0\n",
    "        j=0\n",
    "        for k,v in item:\n",
    "            data = []\n",
    "            title = v['text']\n",
    "            print(file+'\\n','channels:',i,'个    ','共',j,'条数据','    ','文件大小:',f_size,'GB')\n",
    "        f.close()\n",
    "        file_w.close()"
   ],
   "metadata": {
    "collapsed": false,
    "pycharm": {
     "name": "#%%\n"
    }
   }
  },
  {
   "cell_type": "code",
   "execution_count": 30,
   "outputs": [
    {
     "name": "stdout",
     "output_type": "stream",
     "text": [
      "{'text': '陈虎：隐形无人机可破解攻击航母情报信息问题', 'id': 13631, 'label': [{'start': 0, 'end': 2, 'text': '陈虎', 'labels': ['人名']}, {'start': 3, 'end': 8, 'text': '隐形无人机', 'labels': ['武器装备']}, {'start': 13, 'end': 15, 'text': '航母', 'labels': ['武器装备']}], 'annotator': 1, 'annotation_id': 367, 'created_at': '2023-05-23T05:43:37.063275Z', 'updated_at': '2023-05-23T05:43:37.064275Z', 'lead_time': 16.157}\n"
     ]
    }
   ],
   "source": [
    "path = \"data2_1000.json\" #文件夹目录\n",
    "# files= os.listdir(path) #得到文件夹下的所有文件名称\n",
    "\n",
    "file2 = './tttt.txt'\n",
    "file_w = open(file2, 'a', encoding='utf-8')\n",
    "with open(path, 'rb') as f:\n",
    "    data = json.load(f)\n",
    "    print(data[0])\n",
    "file_w.close()\n",
    "f.close()"
   ],
   "metadata": {
    "collapsed": false,
    "pycharm": {
     "name": "#%%\n"
    }
   }
  },
  {
   "cell_type": "code",
   "execution_count": 21,
   "outputs": [
    {
     "name": "stdout",
     "output_type": "stream",
     "text": [
      "asd\n"
     ]
    }
   ],
   "source": [
    "print('asd')"
   ],
   "metadata": {
    "collapsed": false,
    "pycharm": {
     "name": "#%%\n"
    }
   }
  },
  {
   "cell_type": "markdown",
   "source": [
    "# 写入"
   ],
   "metadata": {
    "collapsed": false
   }
  },
  {
   "cell_type": "code",
   "execution_count": 5,
   "outputs": [
    {
     "ename": "NameError",
     "evalue": "name 'data_json' is not defined",
     "output_type": "error",
     "traceback": [
      "\u001B[1;31m---------------------------------------------------------------------------\u001B[0m",
      "\u001B[1;31mNameError\u001B[0m                                 Traceback (most recent call last)",
      "\u001B[1;32m<ipython-input-5-9e55850ab248>\u001B[0m in \u001B[0;36m<module>\u001B[1;34m()\u001B[0m\n\u001B[0;32m      1\u001B[0m \u001B[1;33m\u001B[0m\u001B[0m\n\u001B[1;32m----> 2\u001B[1;33m \u001B[0md\u001B[0m \u001B[1;33m=\u001B[0m \u001B[0mdata_json\u001B[0m\u001B[1;33m\u001B[0m\u001B[0m\n\u001B[0m\u001B[0;32m      3\u001B[0m \u001B[0mfile\u001B[0m \u001B[1;33m=\u001B[0m \u001B[0mopen\u001B[0m\u001B[1;33m(\u001B[0m\u001B[1;34m'./MyData/English/NER/Ordinary/archive-ner.txt'\u001B[0m\u001B[1;33m,\u001B[0m \u001B[1;34m'a'\u001B[0m\u001B[1;33m,\u001B[0m \u001B[0mencoding\u001B[0m\u001B[1;33m=\u001B[0m\u001B[1;34m'gb18030'\u001B[0m\u001B[1;33m)\u001B[0m\u001B[1;33m\u001B[0m\u001B[0m\n\u001B[0;32m      4\u001B[0m \u001B[0mlength\u001B[0m \u001B[1;33m=\u001B[0m \u001B[0mlen\u001B[0m\u001B[1;33m(\u001B[0m\u001B[0md\u001B[0m\u001B[1;33m)\u001B[0m\u001B[1;33m\u001B[0m\u001B[0m\n\u001B[0;32m      5\u001B[0m \u001B[1;31m# file.writelines('\\n')\u001B[0m\u001B[1;33m\u001B[0m\u001B[1;33m\u001B[0m\u001B[0m\n",
      "\u001B[1;31mNameError\u001B[0m: name 'data_json' is not defined"
     ]
    }
   ],
   "source": [
    "d = data_json\n",
    "file = open('./MyData/English/NER/Ordinary/archive-ner.txt', 'a', encoding='utf-8')\n",
    "length = len(d)\n",
    "# file.writelines('\\n')\n",
    "for i,centen in enumerate(d):\n",
    "    file.writelines(centen)\n",
    "    if i<length-1:\n",
    "        file.writelines('\\n')\n",
    "file.close()\n"
   ],
   "metadata": {
    "collapsed": false,
    "pycharm": {
     "name": "#%%\n"
    }
   }
  },
  {
   "cell_type": "code",
   "execution_count": null,
   "outputs": [],
   "source": [
    "\n",
    "\n",
    "\n",
    "\n",
    "\n",
    "\n",
    "\n",
    "\n",
    "\n",
    "\n",
    "\n",
    "\n",
    "\n",
    "\n",
    "\n",
    "\n",
    "\n"
   ],
   "metadata": {
    "collapsed": false,
    "pycharm": {
     "name": "#%%\n"
    }
   }
  },
  {
   "cell_type": "code",
   "execution_count": 3,
   "outputs": [
    {
     "ename": "TypeError",
     "evalue": "'TextFileReader' object is not subscriptable",
     "output_type": "error",
     "traceback": [
      "\u001B[1;31m---------------------------------------------------------------------------\u001B[0m",
      "\u001B[1;31mTypeError\u001B[0m                                 Traceback (most recent call last)",
      "\u001B[1;32m<ipython-input-3-bf132578dd99>\u001B[0m in \u001B[0;36m<module>\u001B[1;34m()\u001B[0m\n\u001B[0;32m      1\u001B[0m \u001B[1;33m\u001B[0m\u001B[0m\n\u001B[1;32m----> 2\u001B[1;33m \u001B[0mdata\u001B[0m\u001B[1;33m[\u001B[0m\u001B[1;33m:\u001B[0m\u001B[1;36m2\u001B[0m\u001B[1;33m]\u001B[0m\u001B[1;33m\u001B[0m\u001B[0m\n\u001B[0m\u001B[0;32m      3\u001B[0m \u001B[1;33m\u001B[0m\u001B[0m\n\u001B[0;32m      4\u001B[0m \u001B[1;33m\u001B[0m\u001B[0m\n",
      "\u001B[1;31mTypeError\u001B[0m: 'TextFileReader' object is not subscriptable"
     ]
    }
   ],
   "source": [
    "data[:2]\n",
    "\n"
   ],
   "metadata": {
    "collapsed": false,
    "pycharm": {
     "name": "#%%\n"
    }
   }
  },
  {
   "cell_type": "code",
   "execution_count": null,
   "outputs": [],
   "source": [
    "import json"
   ],
   "metadata": {
    "collapsed": false,
    "pycharm": {
     "name": "#%%\n"
    }
   }
  },
  {
   "cell_type": "code",
   "execution_count": null,
   "outputs": [],
   "source": [
    "file = open('E:/文本标注/数据集/NER/archive/ner_dataset2.json', 'w')\n",
    "json_sentences = {'tokens':[], 'labels':[]}\n",
    "for row in data:\n",
    "    if pd.isna(row[0]) == 0:\n",
    "        file.writelines(json.dumps(json_sentences))\n",
    "        file.writelines('\\n')\n",
    "        json_sentences['tokens'].clear()\n",
    "        json_sentences['labels'].clear()\n",
    "    json_sentences['tokens'].append(row[1])\n",
    "    json_sentences['labels'].append(row[3])\n",
    "\n",
    "file.close()"
   ],
   "metadata": {
    "collapsed": false,
    "pycharm": {
     "name": "#%%\n"
    }
   }
  },
  {
   "cell_type": "code",
   "execution_count": null,
   "outputs": [],
   "source": [
    "type[data[0]]"
   ],
   "metadata": {
    "collapsed": false,
    "pycharm": {
     "name": "#%%\n"
    }
   }
  },
  {
   "cell_type": "code",
   "execution_count": 1,
   "outputs": [
    {
     "name": "stderr",
     "output_type": "stream",
     "text": [
      "D:\\Anaconda\\lib\\site-packages\\ipykernel\\parentpoller.py:116: UserWarning: Parent poll failed.  If the frontend dies,\n",
      "                the kernel may be left running.  Please let us know\n",
      "                about your system (bitness, Python, etc.) at\n",
      "                ipython-dev@scipy.org\n",
      "  ipython-dev@scipy.org\"\"\")\n"
     ]
    }
   ],
   "source": [
    "import pandas as pd\n",
    "import re\n",
    "import emoji\n",
    "import nltk\n",
    "import os\n",
    "# nltk.download('words')\n",
    "# words = set(nltk.corpus.words.words())"
   ],
   "metadata": {
    "collapsed": false,
    "pycharm": {
     "name": "#%%\n"
    }
   }
  },
  {
   "cell_type": "code",
   "execution_count": 30,
   "outputs": [],
   "source": [
    "def row_process2(tweet_row):\n",
    "    tweet_row = re.sub(\"@[A-Za-z0-9]+\",\"\",tweet_row) #Remove @ sign\n",
    "    tweet_row = re.sub(r\"(?:\\@|http?\\://|https?\\://|www)\\S+\", \"\", tweet_row) #Remove http links\n",
    "    tweet_row = \" \".join(tweet_row.split())\n",
    "    tweet_row = ''.join(c for c in tweet_row if c not in emoji.UNICODE_EMOJI) #Remove Emojis\n",
    "    tweet_row = tweet_row.replace(\"#\", \"\").replace(\"_\", \" \") #Remove hashtag sign but keep the text\n",
    "    # tweet_row = \" \".join(w for w in nltk.wordpunct_tokenize(tweet_row) if w.lower() in words or not w.isalpha())\n",
    "    tweet_row = \" \".join(w for w in nltk.wordpunct_tokenize(tweet_row) if w.lower() in words or w.isalpha())\n",
    "    return tweet_row"
   ],
   "metadata": {
    "collapsed": false,
    "pycharm": {
     "name": "#%%\n"
    }
   }
  },
  {
   "cell_type": "code",
   "execution_count": 7,
   "outputs": [],
   "source": [
    "def row_process(tweet_row):\n",
    "    if len(tweet_row)<50:\n",
    "        return None\n",
    "    tweet_row = re.sub(\"@[A-Za-z0-9]+\",\"\",tweet_row) #Remove @ sign\n",
    "    tweet_row = re.sub(r\"(?:\\@|http?\\://|https?\\://|www)\\S+\", \"\", tweet_row) #Remove http links\n",
    "    # tweet_row = \" \".join(tweet_row.split())\n",
    "    # tweet_row = ''.join(c for c in tweet_row if c not in emoji.UNICODE_EMOJI) #Remove Emojis\n",
    "    tweet_row = re.sub(r'[^0-9A-Za-z\\-·:?!\".\\'\\u4e00-\\u9fa5()（）“”，。：；《》？！]+', ' ', tweet_row)\n",
    "    tweet_row = ' '.join(tweet_row.split())\n",
    "    # tweet_row = tweet_row.replace(\"#\", \"\").replace(\"_\", \" \") #Remove hashtag sign but keep the text\n",
    "    # tweet_row = \" \".join(w for w in nltk.wordpunct_tokenize(tweet_row) if w.lower() in words or not w.isalpha())\n",
    "    # tweet_row = \" \".join(w for w in nltk.wordpunct_tokenize(tweet_row) if w.lower() in words or w.isalpha())\n",
    "    if len(tweet_row)<50:\n",
    "        return None\n",
    "    return tweet_row"
   ],
   "metadata": {
    "collapsed": false,
    "pycharm": {
     "name": "#%%\n"
    }
   }
  },
  {
   "cell_type": "code",
   "execution_count": 8,
   "outputs": [],
   "source": [
    "def cleaner(tweet):\n",
    "    if len(tweet)<50:\n",
    "        return\n",
    "    tweet_rows = tweet.split('\\\\n')\n",
    "    for k, v in enumerate(tweet_rows):\n",
    "        tweet_rows[k] = row_process(v)\n",
    "    return list(filter(None, tweet_rows))"
   ],
   "metadata": {
    "collapsed": false,
    "pycharm": {
     "name": "#%%\n"
    }
   }
  },
  {
   "cell_type": "code",
   "execution_count": 76,
   "outputs": [
    {
     "name": "stdout",
     "output_type": "stream",
     "text": [
      "[\"he's name is yom 's·interviews what-should we:do we·do\", \"It's gonna be lit you don't wanna miss the (do-what) fun time\"]\n"
     ]
    }
   ],
   "source": [
    "t = 'Interview com·ing up 🔥🔥🔥🔥\\n\\n|•Isha•|\\n|•Sunday•|\\n|•6:00pm•|\\n\\nhttps://t.me/joinchat/AAAAAERFHEjDPDF3vDmPyA'\n",
    "t2 = 'he\\'s name is yom @hi\\'s·interviews what-should we:do we·do ?\\n\\n@his_interviews\\n@his_interviews\\n@his_interviews\\n@his_interviews\\n\\nIt\\'s gonna be lit 🤙🏾❤️✨you don\\'t wanna miss the (do-what) fun time😋😋'\n",
    "t3 = '**Today, what should we do ?🤔**\\n\\nRoast·leno 😈 – 6\\n👍👍👍👍👍👍👍 67%\\n\\nDrop handles😋 – 3\\n👍👍👍👍 33%\\n\\nTalk all day 🙃\\n▫️ 0%\\n\\nHype the channel 😌\\n▫️ 0%\\n\\n👥 9 people voted so far.'\n",
    "t_ = cleaner(t2)\n",
    "print(t_)"
   ],
   "metadata": {
    "collapsed": false,
    "pycharm": {
     "name": "#%%\n"
    }
   }
  },
  {
   "cell_type": "code",
   "execution_count": 49,
   "outputs": [
    {
     "data": {
      "text/plain": "\"he's name is yom hi's·interviews what-should we:do we·do ? his 你想说啥，啊啊啊。，：；\""
     },
     "execution_count": 49,
     "metadata": {},
     "output_type": "execute_result"
    }
   ],
   "source": [
    "re.sub(r'[^0-9A-Za-z\\-·:?!\".\\'\\u4e00-\\u9fa5()（）“”，。：；《》？！]+', ' ', 'he\\'s name is yom @hi\\'s·interviews what-should we:do we·do ?\\n@his_你想说啥，啊啊啊。，：；')"
   ],
   "metadata": {
    "collapsed": false,
    "pycharm": {
     "name": "#%%\n"
    }
   }
  },
  {
   "cell_type": "code",
   "execution_count": 88,
   "outputs": [
    {
     "data": {
      "text/plain": "\"It's gonna be lit you dont wanna miss the (do-what) fun time\""
     },
     "execution_count": 88,
     "metadata": {},
     "output_type": "execute_result"
    }
   ],
   "source": [
    "'It\\'s gonna be lit you dont wanna miss the (do-what) fun time\\n'[:-1]"
   ],
   "metadata": {
    "collapsed": false,
    "pycharm": {
     "name": "#%%\n"
    }
   }
  },
  {
   "cell_type": "markdown",
   "source": [
    "## 大文件按行读取"
   ],
   "metadata": {
    "collapsed": false,
    "pycharm": {
     "name": "#%% md\n"
    }
   }
  },
  {
   "cell_type": "code",
   "execution_count": 8,
   "outputs": [],
   "source": [
    "l=0\n",
    "\n",
    "file_to = open('./MyData/Chinese/Docs/千言thu_news/千言thu_news.txt', 'a', encoding='utf-8')\n",
    "file_from = open('./数据集/千言/thu_news/thu_news/train.txt', 'r', encoding='utf-8')\n",
    "while True:\n",
    "    line = file_from.readline()\n",
    "    if not line:\n",
    "        break\n",
    "    # print(line[:-1].split('\t')[1])\n",
    "    text, label = line[:-1].split('\t')\n",
    "    title = text.split('　　')[0]\n",
    "    content = text.split('　　')[1:]\n",
    "    file_to.writelines(title +'\\n')\n",
    "    # file_to.writelines('\\n')\n",
    "    file_to.writelines(''.join(content))\n",
    "    file_to.writelines('\\n')\n",
    "    file_to.writelines('\\n')\n",
    "    # print('content:',content)\n",
    "    l = l + 1\n",
    "\n",
    "file_from.close()\n",
    "file_to.close()"
   ],
   "metadata": {
    "collapsed": false,
    "pycharm": {
     "name": "#%%\n"
    }
   }
  },
  {
   "cell_type": "code",
   "execution_count": 28,
   "outputs": [],
   "source": [
    "def f2f(fileA, fileB):\n",
    "    '''\n",
    "    读取一个文件夹fileA下的所有文件处理，对每个文件处理写入到fileB中\n",
    "    :param fileA:\n",
    "    :param fileB:\n",
    "    :return:\n",
    "    '''\n",
    "    files = os.listdir(fileA)\n",
    "    for file in files:\n",
    "        if len(file)<8:\n",
    "            continue\n",
    "        fileB_file_name = fileB + file.split('_')[1] + '.txt'\n",
    "        fileB_file = open(fileB_file_name, 'a', encoding='utf-8')\n",
    "        fileA_file = open(fileA + '/' + file, 'r', encoding='utf-8')\n",
    "        while True:\n",
    "            line = fileA_file.readline()\n",
    "            if not line:\n",
    "                break\n",
    "            result = cleaner(line[:-1])\n",
    "            if result!=None and len(result)!=0:\n",
    "                # fileB_file.writelines('\\n')\n",
    "                for index,sentence in enumerate(result):\n",
    "                    fileB_file.writelines(sentence)\n",
    "                    fileB_file.writelines('\\n')"
   ],
   "metadata": {
    "collapsed": false,
    "pycharm": {
     "name": "#%%\n"
    }
   }
  },
  {
   "cell_type": "code",
   "execution_count": 41,
   "outputs": [],
   "source": [
    "f2f('./MyData/English/TDdata/3', './MyData/English/TDdata/3/')"
   ],
   "metadata": {
    "collapsed": false,
    "pycharm": {
     "name": "#%%\n"
    }
   }
  },
  {
   "cell_type": "markdown",
   "source": [
    "## 获得文件信息"
   ],
   "metadata": {
    "collapsed": false,
    "pycharm": {
     "name": "#%% md\n"
    }
   }
  },
  {
   "cell_type": "code",
   "execution_count": null,
   "outputs": [
    {
     "name": "stdout",
     "output_type": "stream",
     "text": [
      "主文件夹:\n",
      "文件名: 0.txt      共 788975 条数据    文件大小: 117.58534049987793 MB\n",
      "文件名: 1.txt      共 744553 条数据    文件大小: 100.68595123291016 MB\n",
      "文件名: 10.txt      共 499784 条数据    文件大小: 64.21150779724121 MB\n",
      "文件名: 11.txt      共 782791 条数据    文件大小: 105.99124145507812 MB\n",
      "文件名: 12.txt      共 1142342 条数据    文件大小: 154.1333999633789 MB\n",
      "文件名: 13.txt      共 697565 条数据    文件大小: 92.13006019592285 MB\n",
      "文件名: 14.txt      共 1360834 条数据    文件大小: 190.5678415298462 MB\n",
      "文件名: 15.txt      共 1500373 条数据    文件大小: 184.21289920806885 MB\n",
      "文件名: 16.txt      共 908087 条数据    文件大小: 131.2353925704956 MB\n",
      "文件名: 17.txt      共 631516 条数据    文件大小: 82.78451251983643 MB\n",
      "文件名: 18.txt      共 1306155 条数据    文件大小: 242.72680950164795 MB\n",
      "文件名: 19.txt      共 1471521 条数据    文件大小: 210.0188226699829 MB\n",
      "文件名: 2.txt      共 666777 条数据    文件大小: 93.7125072479248 MB\n",
      "文件名: 20.txt      共 1456103 条数据    文件大小: 212.17830181121826 MB\n",
      "文件名: 21.txt      共 1148889 条数据    文件大小: 144.08970165252686 MB\n",
      "文件名: 22.txt      共 1007345 条数据    文件大小: 135.448091506958 MB\n",
      "文件名: 23.txt      共 927732 条数据    文件大小: 132.2073678970337 MB\n",
      "文件名: 24.txt      共 1361390 条数据    文件大小: 203.7870044708252 MB\n",
      "文件名: 25.txt      共 565410 条数据    文件大小: 78.84522247314453 MB\n",
      "文件名: 26.txt      共 833019 条数据    文件大小: 111.40657424926758 MB\n",
      "文件名: 27.txt      共 903167 条数据    文件大小: 126.56961822509766 MB\n",
      "文件名: 28.txt      共 784062 条数据    文件大小: 104.95079040527344 MB\n",
      "文件名: 29.txt      共 1214984 条数据    文件大小: 168.2300853729248 MB\n",
      "文件名: 3.txt      共 955810 条数据    文件大小: 131.0425567626953 MB\n",
      "文件名: 30.txt      共 852049 条数据    文件大小: 117.94689750671387 MB\n",
      "文件名: 31.txt      共 1095064 条数据    文件大小: 151.57587432861328 MB\n",
      "文件名: 32.txt      共 762127 条数据    文件大小: 95.30465126037598 MB\n",
      "文件名: 33.txt      共 746093 条数据    文件大小: 99.97519397735596 MB\n",
      "文件名: 34.txt      共 1116191 条数据    文件大小: 158.45877742767334 MB\n",
      "文件名: 4.txt      共 724075 条数据    文件大小: 101.67030334472656 MB\n",
      "文件名: 5.txt      共 1193325 条数据    文件大小: 158.6795482635498 MB\n",
      "文件名: 6.txt      共 662412 条数据    文件大小: 93.98500156402588 MB\n",
      "文件名: 7.txt      共 578719 条数据    文件大小: 81.69898223876953 MB\n",
      "文件名: 8.txt      共 946539 条数据    文件大小: 136.8917942047119 MB\n",
      "文件名: 9.txt      共 589439 条数据    文件大小: 70.66124057769775 MB\n",
      "主文件夹:\n",
      "文件名: 35.txt      共 1545145 条数据    文件大小: 229.6020965576172 MB\n",
      "文件名: 36.txt      共 1204151 条数据    文件大小: 162.24764156341553 MB\n",
      "文件名: 37.txt      共 1126811 条数据    文件大小: 162.3518772125244 MB\n",
      "文件名: 38.txt      共 697042 条数据    文件大小: 97.50250816345215 MB\n",
      "文件名: 39.txt      共 989522 条数据    文件大小: 149.39941596984863 MB\n",
      "文件名: 40.txt      共 957617 条数据    文件大小: 112.08387279510498 MB\n",
      "文件名: 41.txt      共 952748 条数据    文件大小: 135.5163049697876 MB\n",
      "文件名: 42.txt      共 953264 条数据    文件大小: 156.01331329345703 MB\n",
      "文件名: 43.txt      共 820489 条数据    文件大小: 99.05031490325928 MB\n",
      "文件名: 44.txt      共 849327 条数据    文件大小: 118.86132144927979 MB\n",
      "文件名: 45.txt      共 1647588 条数据    文件大小: 245.32960891723633 MB\n",
      "文件名: 46.txt      共 1158292 条数据    文件大小: 147.4960651397705 MB\n",
      "文件名: 47.txt      共 446311 条数据    文件大小: 63.088730812072754 MB\n",
      "文件名: 48.txt      共 702203 条数据    文件大小: 97.10455703735352 MB\n",
      "文件名: 49.txt      共 1105501 条数据    文件大小: 152.90424823760986 MB\n",
      "文件名: 50.txt      共 730621 条数据    文件大小: 107.29211711883545 MB\n",
      "文件名: 51.txt      共 512800 条数据    文件大小: 76.89337730407715 MB\n",
      "文件名: 52.txt      共 281389 条数据    文件大小: 31.760340690612793 MB\n",
      "文件名: 53.txt      共 570904 条数据    文件大小: 74.41899490356445 MB\n",
      "文件名: 54.txt      共 380208 条数据    文件大小: 57.58412837982178 MB\n",
      "文件名: 55.txt      共 620249 条数据    文件大小: 87.89638805389404 MB\n",
      "文件名: 56.txt      共 1261760 条数据    文件大小: 174.98715114593506 MB\n",
      "文件名: 57.txt      共 1386005 条数据    文件大小: 218.2987117767334 MB\n",
      "文件名: 58.txt      共 886734 条数据    文件大小: 114.21196174621582 MB\n",
      "文件名: 59.txt      共 732186 条数据    文件大小: 101.31583499908447 MB\n",
      "文件名: 60.txt      共 867718 条数据    文件大小: 117.35254955291748 MB\n",
      "文件名: 61.txt      共 923621 条数据    文件大小: 132.3620023727417 MB\n",
      "文件名: 62.txt      共 682585 条数据    文件大小: 91.17144870758057 MB\n",
      "文件名: 63.txt      共 620046 条数据    文件大小: 84.23830604553223 MB\n",
      "文件名: 64.txt      共 874310 条数据    文件大小: 122.03175449371338 MB\n",
      "文件名: 65.txt      共 687339 条数据    文件大小: 80.66392612457275 MB\n",
      "文件名: 66.txt      共 351970 条数据    文件大小: 42.177462577819824 MB\n",
      "文件名: 67.txt      共 843062 条数据    文件大小: 101.99456119537354 MB\n",
      "文件名: 68.txt      共 465493 条数据    文件大小: 55.746575355529785 MB\n",
      "文件名: 69.txt      共 767322 条数据    文件大小: 115.23378372192383 MB\n",
      "主文件夹:\n",
      "文件名: 100.txt      共 828264 条数据    文件大小: 104.39532852172852 MB\n",
      "文件名: 101.txt      共 604560 条数据    文件大小: 80.72005653381348 MB\n",
      "文件名: 102.txt      共 802503 条数据    文件大小: 99.09282779693604 MB\n",
      "文件名: 103.txt      共 993053 条数据    文件大小: 123.97045707702637 MB\n",
      "文件名: 104.txt      共 1512544 条数据    文件大小: 206.1792449951172 MB\n",
      "文件名: 70.txt      共 560009 条数据    文件大小: 85.53126335144043 MB\n",
      "文件名: 71.txt      共 1571184 条数据    文件大小: 204.53856754302979 MB\n",
      "文件名: 72.txt      共 781126 条数据    文件大小: 114.37054920196533 MB\n",
      "文件名: 73.txt      共 992562 条数据    文件大小: 147.17555236816406 MB\n",
      "文件名: 74.txt      共 958130 条数据    文件大小: 117.68920803070068 MB\n",
      "文件名: 75.txt      共 703218 条数据    文件大小: 87.6810712814331 MB\n",
      "文件名: 76.txt      共 818922 条数据    文件大小: 101.05044269561768 MB\n",
      "文件名: 77.txt      共 797084 条数据    文件大小: 107.76528453826904 MB\n",
      "文件名: 78.txt      共 1300227 条数据    文件大小: 181.4020471572876 MB\n",
      "文件名: 79.txt      共 509803 条数据    文件大小: 67.28787136077881 MB\n",
      "文件名: 80.txt      共 674681 条数据    文件大小: 79.96594333648682 MB\n",
      "文件名: 81.txt      共 569913 条数据    文件大小: 87.34512424468994 MB\n",
      "文件名: 82.txt      共 754840 条数据    文件大小: 90.73406410217285 MB\n",
      "文件名: 83.txt      共 846185 条数据    文件大小: 110.06198024749756 MB\n",
      "文件名: 84.txt      共 1747033 条数据    文件大小: 249.49800491333008 MB\n",
      "文件名: 85.txt      共 1184081 条数据    文件大小: 187.2231149673462 MB\n",
      "文件名: 86.txt      共 884828 条数据    文件大小: 119.34233283996582 MB\n",
      "文件名: 87.txt      共 1232133 条数据    文件大小: 165.52453708648682 MB\n",
      "文件名: 88.txt      共 784869 条数据    文件大小: 106.6080207824707 MB\n",
      "文件名: 89.txt      共 780782 条数据    文件大小: 120.20803260803223 MB\n",
      "文件名: 90.txt      共 1067644 条数据    文件大小: 145.53862380981445 MB\n",
      "文件名: 91.txt      共 721699 条数据    文件大小: 100.65354537963867 MB\n",
      "文件名: 92.txt      共 829975 条数据    文件大小: 112.36461639404297 MB\n",
      "文件名: 93.txt      共 709046 条数据    文件大小: 98.0162353515625 MB\n",
      "文件名: 94.txt      共 516326 条数据    文件大小: 61.686293601989746 MB\n",
      "文件名: 95.txt      共 555644 条数据    文件大小: 69.56711959838867 MB\n",
      "文件名: 96.txt      共 598482 条数据    文件大小: 70.55272769927979 MB\n",
      "文件名: 97.txt      共 748494 条数据    文件大小: 102.17580509185791 MB\n",
      "文件名: 98.txt      共 1094955 条数据    文件大小: 155.72303104400635 MB\n",
      "文件名: 99.txt      共 1031922 条数据    文件大小: 133.97307968139648 MB\n",
      "主文件夹:\n",
      "文件名: 105.txt      共 1491221 条数据    文件大小: 231.49022674560547 MB\n",
      "文件名: 106.txt      共 987294 条数据    文件大小: 142.16545295715332 MB\n",
      "文件名: 107.txt      共 1004513 条数据    文件大小: 131.10802555084229 MB\n",
      "文件名: 108.txt      共 903677 条数据    文件大小: 129.32723426818848 MB\n",
      "文件名: 109.txt      共 860320 条数据    文件大小: 125.10241508483887 MB\n",
      "文件名: 110.txt      共 1181658 条数据    文件大小: 146.16062259674072 MB\n",
      "文件名: 111.txt      共 920367 条数据    文件大小: 127.15106964111328 MB\n",
      "文件名: 112.txt      共 941739 条数据    文件大小: 127.62693309783936 MB\n",
      "文件名: 113.txt      共 1029451 条数据    文件大小: 124.35243129730225 MB\n",
      "文件名: 114.txt      共 1153052 条数据    文件大小: 174.93595218658447 MB\n",
      "文件名: 115.txt      共 1798273 条数据    文件大小: 269.2308807373047 MB\n",
      "文件名: 116.txt      共 1383923 条数据    文件大小: 180.921404838562 MB\n",
      "文件名: 117.txt      共 634891 条数据    文件大小: 86.16672325134277 MB\n",
      "文件名: 118.txt      共 760886 条数据    文件大小: 120.3879222869873 MB\n",
      "文件名: 119.txt      共 639216 条数据    文件大小: 88.45669364929199 MB\n",
      "文件名: 120.txt      共 833432 条数据    文件大小: 104.3977575302124 MB\n"
     ]
    }
   ],
   "source": [
    "dirs = os.listdir('./MyData/English/TDdata')\n",
    "for dir in dirs:\n",
    "    files = os.listdir('./MyData/English/TDdata/' + dir)\n",
    "    print('主文件夹:', dir)\n",
    "    for file in files:\n",
    "        sums = 0\n",
    "        name = './MyData/English/TDdata/' + dir + '/' + file\n",
    "        for v in enumerate(open(name, 'r', encoding='utf-8').readlines()):\n",
    "            sums = sums + 1\n",
    "        f_size = os.path.getsize(name)/float(1024*1024)\n",
    "        print('文件名:', file, '    ', '共', sums, '条数据    文件大小:', f_size, 'MB')"
   ],
   "metadata": {
    "collapsed": false,
    "pycharm": {
     "name": "#%%\n",
     "is_executing": true
    }
   }
  },
  {
   "cell_type": "code",
   "execution_count": 6,
   "outputs": [
    {
     "data": {
      "text/plain": "'2'"
     },
     "execution_count": 6,
     "metadata": {},
     "output_type": "execute_result"
    }
   ],
   "source": [
    "str(2)"
   ],
   "metadata": {
    "collapsed": false,
    "pycharm": {
     "name": "#%%\n"
    }
   }
  },
  {
   "cell_type": "markdown",
   "source": [
    "## 读取大的CSV文件"
   ],
   "metadata": {
    "collapsed": false
   }
  },
  {
   "cell_type": "code",
   "execution_count": 9,
   "outputs": [],
   "source": [
    "import numpy as np"
   ],
   "metadata": {
    "collapsed": false,
    "pycharm": {
     "name": "#%%\n"
    }
   }
  },
  {
   "cell_type": "code",
   "execution_count": 17,
   "outputs": [],
   "source": [
    "sum_line = 0"
   ],
   "metadata": {
    "collapsed": false,
    "pycharm": {
     "name": "#%%\n"
    }
   }
  },
  {
   "cell_type": "code",
   "execution_count": 19,
   "outputs": [],
   "source": [
    "file_to = open('./MyData/English/Docs/AG_NEWS.txt', 'a', encoding='utf-8')\n",
    "for chunks in pd.read_csv('./数据集/新闻分类数据集/AG_NEWS.data/AG_NEWS.data/test.csv', chunksize=1000,encoding='utf-8'):\n",
    "    # print(chunks[:3])\n",
    "    titles = np.array(chunks['title']).tolist()\n",
    "    texts = np.array(chunks['text']).tolist()\n",
    "    for i in range(len(titles)):\n",
    "        file_to.writelines(titles[i])\n",
    "        file_to.writelines('\\n')\n",
    "        sum_line = sum_line + 1\n",
    "        file_to.writelines(texts[i])\n",
    "        file_to.writelines('\\n')\n",
    "        file_to.writelines('\\n')\n",
    "\n",
    "file_to.close()"
   ],
   "metadata": {
    "collapsed": false,
    "pycharm": {
     "name": "#%%\n"
    }
   }
  },
  {
   "cell_type": "code",
   "execution_count": 8,
   "outputs": [],
   "source": [
    "file_to.close()\n"
   ],
   "metadata": {
    "collapsed": false,
    "pycharm": {
     "name": "#%%\n"
    }
   }
  },
  {
   "cell_type": "code",
   "execution_count": 10,
   "outputs": [
    {
     "name": "stdout",
     "output_type": "stream",
     "text": [
      "           cdate  user_id         _id  \\\n",
      "0   1.628696e+12   738711  p7bnjt427a   \n",
      "1   1.628696e+12   738711  p7cjcg51af   \n",
      "2   1.628600e+12   738711      p76ddd   \n",
      "3   1.628382e+12   738711      p6ze5j   \n",
      "4   1.628289e+12   738711      p6xdmv   \n",
      "5   1.628268e+12   738711      p6ux8p   \n",
      "6   1.628180e+12   738711      p6rn6q   \n",
      "7   1.628180e+12   738711      p6sl0s   \n",
      "8   1.628028e+12   738711      p6juvy   \n",
      "9   1.627918e+12   738711      p6gz2o   \n",
      "10  1.627906e+12   738711      p6hji6   \n",
      "11  1.627906e+12   738711      p6gok9   \n",
      "12  1.627906e+12   738711      p6hm4p   \n",
      "13  1.627838e+12   738711      p6bdbh   \n",
      "14  1.627748e+12   738711      p6aghi   \n",
      "15  1.627748e+12   738711      p6aa8j   \n",
      "16  1.627748e+12   738711      p6b5vj   \n",
      "17  1.627676e+12   738711      p66ptx   \n",
      "18  1.627648e+12   738711      p652ku   \n",
      "19  1.627646e+12   738711      p64l82   \n",
      "20  1.627646e+12   738711      p64wkb   \n",
      "21  1.627646e+12   738711      p64ump   \n",
      "22  1.627499e+12   738711      p5wrtp   \n",
      "23  1.627499e+12   738711      p5xsjt   \n",
      "24  1.627499e+12   738711      p5xquv   \n",
      "25  1.627415e+12   738711      p5qqtg   \n",
      "26  1.627415e+12   738711      p5qqi6   \n",
      "27  1.627316e+12   738711      p5muvp   \n",
      "28  1.627316e+12   738711      p5nz8e   \n",
      "29  1.627223e+12   738711      p5gtxu   \n",
      "\n",
      "                                                  txt  \n",
      "0   “Afterward #Jesus found him in the temple,and ...  \n",
      "1   “Now,therefore ,listen to me,my children,\\nFor...  \n",
      "2   Every day most of us have something to worry a...  \n",
      "3   When he has brought out all his own, he goes o...  \n",
      "4   “Riches do not profit in the day of wrath,\\nBu...  \n",
      "5   Nothing is impossible for #God\\nAbraham was 99...  \n",
      "6   “Then they said to the woman,”Now we believe,n...  \n",
      "7   “Come,see a Man who told me all things that I ...  \n",
      "8   Everything happens according to #God’s will an...  \n",
      "9   The Bible says: Our iniquities have separated ...  \n",
      "10  “But above all,my brethren,do not swear,either...  \n",
      "11  “Having been born again,not of corruptible see...  \n",
      "12  After Adam and Eve #sinned, they hid from the ...  \n",
      "13  “Do not be overly righteous,\\nNor be overly wi...  \n",
      "14  #God always knows the way we should go and kno...  \n",
      "15  We are taking the road of #grace, with #God’s ...  \n",
      "16  “Who(#God ) has saved us and called us with a ...  \n",
      "17  “For Your name’s sake,O Lord,\\nPardon my iniqu...  \n",
      "18  “Deliver those who are drawn toward death,\\nAn...  \n",
      "19  “And when I passed by you and saw you struggli...  \n",
      "20  In the beginning was the Word, and the Word wa...  \n",
      "21  We have our errors and hidden faults(or called...  \n",
      "22  “And the devil said to Him,’All this authority...  \n",
      "23  It is necessary and essential to study the #Sc...  \n",
      "24  “Then #Jesus returned in the power of #Spirit ...  \n",
      "25  Sometime there are dark times in our lives. We...  \n",
      "26  “If someone says,‘I love #God ,’and hates his ...  \n",
      "27  O #God , you are my strength and my #salvation...  \n",
      "28  Those who resist the truth may not know that t...  \n",
      "29  “If I regard iniquity in my heart,\\nthe #Lord ...  \n",
      "----------------------------------------------\n",
      "“Afterward #Jesus found him in the temple,and said to him,”See,you have been made well.Sin no more,lest a worse thing come upon you.”\\n(#John 5:14)\\n\\nAfter we are baptized  and especially after we receive the #HolySpirit, we should not make iniquities.\\n\\n“For if we sin willfully after we have received the knowledge of the truth,there no longer remains a sacrifice for sins,but a certain fearful expectation of judgment,and fiery indignation which will devour the adversaries.”(#Hebrews 10:26-27)\n",
      "“Now,therefore ,listen to me,my children,\\nFor blessed are those who keep my ways.\\nHear instruction and be wise,\\nAnd do not disdain it.\\nBlessed is the man who listens to me,\\nWatching daily at my gates,\\nWaiting at the posts of my doors.\\nFor whoever finds me finds life,\\nAnd obtains favor from the #Lord;\\nBut he who sins against me wrongs his own soul;\\nAll those who hate me love death.”\\n(#Proverbs 8:32-36)\n",
      "Every day most of us have something to worry about. All around us, people look or are afraid, anxious, worried, and stressed out... Are you worried or upset about something that might happen? Something tomorrow or in the future that you really aren’t in control of?\\nI understand that feeling too. But #God says: “Therefore do not worry about tomorrow, for tomorrow will worry about itself. Each day has enough trouble of its own.”( #Matthew 6:34, NIV)\\nIf we’re worried about tomorrow, we could miss today’s joy and blessings.\n",
      "When he has brought out all his own, he goes on ahead of them, and his sheep follow him because they know his voice. They will never follow a stranger...(John10:4-5 NIV)\\nThe stranger refers to the thief, and also to the devil and his servants. Only Jesus is our good shepherd. “The thief comes only to steal and kill and destroy; I have come that they may have life, and have it to the full”.(John 10:10) The devil is the father of lies and also the king of this world. He uses lies to deceive and control the world. So we must know very well the Word of God in the Bible in order to recognize the voice of Jesus and follow Him. In this way we can also recognize the enemy's lies and stay away from the fake news, so that we will not be hurt and our lives will not be lost.\n",
      "“Riches do not profit in the day of wrath,\\nBut righteousness delivers from death.”\\n(#Proverbs 11:4)\\n\\nHere Whose “wrath” does it refer to? It is of #God:\\n“Now the great city was divided into three parts,and the cities of the nations fell.And great Babylon was remembered before #God, to give her the cup of the wine of the fierceness of His wrath.”(#Revelation 16:19)\\n\\nWealth can not save us from our sins;But #God can.\\nPlus,it is not easy especially for the rich to enter the heaven.\n",
      "Nothing is impossible for #God\\nAbraham was 99 years old when the Lord told him that within a year, he would have a son. He and Sarah were too old to have a baby. It was so far out that when Sarah heard it, she laughed out loud. Has God ever put something in your heart that seemed so unlikely or so big that your first reaction was to laugh? He whispers in your spirit that you’re going to live in a nice neighborhood, see your family restored, or get your health back, etc. If Abraham had only looked at it logically, he would have given up. But Abraham did what we all must do: He #believed. “Yes, it’s impossible, but God can do the impossible...” Whatever looks impossible in your life, God will finish what He started. What was true of Abraham is true of you and me.\n",
      "“Then they said to the woman,”Now we believe,not because of what you said,for we ourselves have heard Him and we know that this is indeed the #Christ,the savior of the world.”(#John 4:42)\\n\\nIf we are chosen to be saved  before we are determined to seek for Him,after we hear the gospel from other people,then our life in Him starts.\\nOur faith grows up and stronger along with that we believe more of His words and put them in our life.This is a foundational way to know our #LordJesus.\\nThe more we know Him (#Ephesians 1:17),the closer we are to Him (#James 4:8),then the more we are alike Him.\n",
      "“Come,see a Man who told me all things that I ever did.Could this be the #Christ?” (#John 4:29)\\nWe are not very possibly capable of remembering everything we did before,but #LordJesus recorded for us.Then what is the point to record it all?\\n\\nWhen we live,He guides us:\\n\\n “Your word is a lamp to my feet \\nAnd a light to my path.”(#Psalm 119:105);\\n\\nWhen we die, He gives us judgment:\\n\\n“For #God will bring every work into judgment,\\nIncluding every secret thing,\\nWhether good or evil.”(#Ecclesiastes 12:14)\\n\\n#God gives us not only the life on earth, but also the eternal life in heaven.\n",
      "Everything happens according to #God’s will and #timing.\\nWhen we’re tempted to get discouraged by what is happening in our lives, remember that we’re not living on your own. God is behind the scenes. God’s strong hand and outstretched arm are not limited by the natural; He’s #supernatural. We can’t see Him, but He’s behind the scenes, and He controls the universe. He’s working all things according to His will and timing, and for our good. Suppose God is ready to promote you, He doesn’t need to check with your boss. He opens the door. He controls things behind the scenes. So don’t lose sleep over your boss or the people who are against you. His hand is over them. Your steps are divinely guided by God.\n",
      "The Bible says: Our iniquities have separated us from God; our sins have hidden His face from us. So when we come to God, we must first examine ourselves, confess our sins and repent. “If we confess our sins, he is faithful and just and will forgive us our sins and purify us from all unrighteousness.”(#1John 1:9) We must also tremble at the Word of God. We draw close to God in accordance with God's Word, not our own thoughts or feelings. “Let us draw near to God with a sincere heart in full assurance of faith...”(#Hebrews 10:22) God will make His face shine upon us and be gracious to us. He will take care of us and give us His peace and joy.\n",
      "“But above all,my brethren,do not swear,either by heaven or by earth or with any other oath.But let your “Yes” be “Yes”,and your “No”,”No”,lest you fall into judgment.”(#James 4:12)\\nThis is a very practical teaching which we can apply in our daily life. Humans got the mood and emotions, which sometimes need to stretch out a bit, but if we remember this teaching, then we enjoy the power from these words to put our mood under control and to keep us away from the possibility to sin.\n",
      "“Having been born again,not of corruptible seed but incorruptible,through the word of #God Which lives and abides forever,because:\\n‘All flesh is of grass,\\nAnd all the flory of man as the flower of the grass.\\nThe grass withers,\\nAnd its flower falls away,\\nBut the word of the Lord endures forever. ‘\\nNow this is the word which by gospel was preached to you.”(#1Peter 1:25)\\nAfter being baptized in His name with faith in #LordJesus ,we are reborn in Him. Our bodies were formed of the dust of the ground,(#Genesis 2:7) but it  is His word to make us obtain the eternal life,which Adam lost due to his disobedience of His commandment.(#Genesis 2:16)\n",
      "After Adam and Eve #sinned, they hid from the LORD God. We are all sinners. But God doesn’t want us to hide from Him, not to seek His face and to continue to live in sin. By the #blood of Jesus, God wants us to bravely seek His face, confess our sins and repent. “If we confess our sins, he is faithful and just and will #forgive us our sins and purify us from all unrighteousness.”(1John 1:9) God has #compassion on His children and on our weakness, and He helps us overcome our sinful nature. “Let us then approach the throne of grace with confidence, so that we may receive mercy and find grace to help us in our time of need.”(Heb 4:16)\n",
      "“Do not be overly righteous,\\nNor be overly wise:\\nWhy should you destroy yourself?\\nDo not be overly wicked,\\nNor be foolish:\\nWhy should you die before your time?\\nIt is good that you grasp this,\\nAnd also not remove your hand from the other;\\nFor he fears #God will escape them all.”\\n(#Ecclesiastes 7:16-18)\\nWith #LordJesus in us, we do not walk in front of #God,but to follow Him;\\nWithout Him in us, we do not make iniquities too heavy or too much,otherwise we can not enter His grace or even die before the normal days He gave us.\n",
      "#God always knows the way we should go and knows how many trials we can endure. Trust Him that He is making a way. We all go through valleys — difficult times in life. Don’t give up when it feels like you’re in the valley. Look up to Him, and draw from Him endless power and #grace. He is our best friend and is our help at any time. God wants to bring us out stronger than before.\n",
      "We are taking the road of #grace, with #God’s support and blessings along the way. Although there are the mountains or valleys in front of us, He will lead us through with His love. So live a joyful life every day and don’t worry about tomorrow. #Cast all anxieties, worries and weaknesses onto Him. We must live positively and trust that He will also prepare enough strength, peace and comfort for us, if difficulties and challenges come to us. Even greater blessings will be waiting ahead. He is God who #fulfills His #purpose for us.\n",
      "“Who(#God ) has saved us and called us with a holy calling,not according to our works,but according to His own purpose and grace which was given to us in #Jesus #Christ before time began,but has now been revealed by the appearing of our Savior #Jesus #Christ ,Who has abolished death and brought life and immortality to light through the gospel,”\\n(#2Timothy 1:9-10)\\nHere are some points of this verses:\\n1:Our works can not save us,no matter how kind or nice we think we are.\\n2:Love comes from #God ,He is love and He loves us even before the time began.Therefore He blesses us with the grace in His purpose.\\n3:#Jesus is our #Christ ,Who has come and left,revealing to the world His grace.\n",
      "“For Your name’s sake,O Lord,\\nPardon my iniquity,for it is great.”(#Psalm 12:11)\\n\\nWhat is His name? It is #Jesus! \\n“And she shall bring forth a Son,and you shall call His name #Jesus,for He will save His people from their sins.”(#Matthew 1:21)\\n\\nHis name is great to save everybody:”And in His name Gentiles will trust.”(#Matthew 12:21)\n",
      "“Deliver those who are drawn toward death,\\nAnd hold back those stumbling to the slaughter.”(#Proverbs 7:11)\\n#LordJesus tells His disciples to evangelise:“But you shall receive power when the #HolySpirit has come upon you;and you shall be witness to Me inJerusalem,and in all Judea and Samaria,and to the end of the world.”(#Acts 1:8)\n",
      "“And when I passed by you and saw you struggling in your own blood, I said to you in your blood,’Live!’Yes,I said to you in your blood,’Live!’(#Ezekiel 16:6)\\n“And in all your abominations and acts of harlotry you did not remember the days of your youth,when you were naked and bare,struggling in your blood.”(#Ezekiel 16:22)\\nWhen people left #God ,we were trapped in the world iniquities, which made our souls exposed  “naked and bare”,struggling to survive in the punishment by #God . But #God didn’t leave the people beloved by Him completely,He looks after them like a father to a son. However we humans, are so easy to forget the punishment and so weak and vulnerable before iniquities that we even don’t feel ashamed to continue to crook our souls recklessly.\n",
      "In the beginning was the Word, and the Word was with #God, and the Word was God. He was with God in the beginning. (#John1:1-2) The Word became flesh and made his dwelling among us. We have seen his glory, the glory of the One and Only, who came from the Father, full of #grace and truth. (#John1:14) From the fullness of his grace we have all received one blessing after another. (#John1:16)\n",
      "We have our errors and hidden faults(or called blind spots)that we don't know. Therefore, we must always pray to #God and let God shine upon us. Then we can see if there is any offensive way in us. Otherwise our guilt remains. Job was a righteous man and he also had blind spots. The bible says: Job justified himself rather than God. Job had his hidden pride(Job 30:1-2). He didn’t start “seeing”God until he was completely #humbled and admitted that he had his errors and hidden faults and repented. “My ears had heard of you but now my eyes have seen you.”(Job 42:5) “After Job had prayed for his friends, the LORD made him prosperous again”(Job 42:10). We also have to seek God’s face with a humble and contrite heart in order to let God shine upon us and be blessed.\n",
      "“And the devil said to Him,’All this authority I will give You,and their glory;for this has been delivered to me,and I give it to whomever I wish.Therefore,if you will worship before me,all will be Yours.’ ”(#Luke 4:6-7)\\n\\nHere the devil,again as usual,lied and cheated. Find the answer here if you could give it some thoughts first:\\n“Do not love the world or the things in the world.If anyone loves the world,the love of the #Father is not in him.”(#1John 2:15)\\n\\nThat’s why #LordJesus answered the devil:”Get behind Me,Satan!For it is written,’You shall worship the #Lord your #God,and Him only you shall serve.’ “(#Luke 4:8)\n",
      "It is necessary and essential to study the #Scriptures of the Bible, but it does not necessarily bring us life. 2 Corinthians 3:6 tells us: “He has made us competent as ministers of a new covenant--not of the letter but of the Spirit; for the letter kills, but the #Spirit gives #life.”“The Spirit gives life; the flesh counts for nothing. The words I have spoken to you are spirit and they are life.”(John:6:63) “#God is spirit, and his worshipers must worship in spirit and in truth.”(John:4:24) “For with you is the fountain of life; in your light we see light.”(Psalms:36:9) \\nOnly in this way can we get life from the fountain of the living water.\n",
      "“Then #Jesus returned in the power of #Spirit to Galilee,and news of Him went out through all the surrounding region.”(#Luke 4:14)\\nIf we want to serve in church,preach to people,do the work for #God,and especially if we want people to be saved by #God in the way which #God has directed us,we need to receive the #HolySpirit,Who then gives us enough power to fulfill the job in a Holy way.When people are filled with the #HolySpirit, they are undefeatable by the devil,as we can see from what happened to #LordJesus.(#Luke 4:1-13)\\nAs John the baptizer says:”For He Whom #God has sent speaks the word of #God,for #God does not give the #Spirit by measure.”(#John 3:34)\n",
      "Sometime there are dark times in our lives. We don’t see how we will ever get well from illness, or ever get out of debt, or we don’t see how to resolve the legal situation. Here’s the key: we are the #righteous and the children of the Most High God. #God gives us the #promise . That is when it’s dark, when we are probably discouraged, when we feel like giving up, light is about to burst in. That means God in His goodness will turn it all around. When it’s time for promotion, for healing and for abundance, all the forces of darkness cannot stop God. The light is about to break through the darkness. We just keep believing and keeping trusting in Him.\n",
      "“If someone says,‘I love #God ,’and hates his brother,he is a liar;for he who does not love his brother whom he has seen,how can he love #God Whom he has not seen?And this commandment we have from Him:that he who loves #God must love his brother also.”(#1John 4:20-21)\n",
      "O #God , you are my strength and my #salvation !\\nThis chapter (#Isaiah 12:1-6 ) is a hymn of praise and a picture of people rejoicing in the reign of Jesus #Christ on earth. It is now that we are to express our gratitude to God. We are to thank Him, praise Him and tell others of His wonderful deeds. It is out of our gratefulness that we must also share the #gospel with others.\n",
      "Those who resist the truth may not know that they have been taken captive by the devil. “#God wants all men to be saved and to come to a knowledge of the truth.”(#1Timothy 2:4)  He is ready to give everyone a chance to accept the truth. Therefore, the children of God should share the truth patiently and gently, so that people will come to their senses and accept Jesus #Christ as their #Savior . But if they are stubborn and reject it, there's no need to force them. “Do not give dogs what is sacred; do not throw your pearls to pigs. If you do, they may trample them under their feet, and then turn and tear you to pieces.”(#Matthew 7:6)\n",
      "“If I regard iniquity in my heart,\\nthe #Lord will not hear me.”(#Psalm 66:18)\\nProphet Isaiah understood it this way:\\n“Behold,the #Lord ’s hand is not shortened,that it cannot save;\\nneither his ear heavy,that it cannot hear:\\nBut your iniquities have separated between you and your #God ,\\nand your sins have hid His face from you,that He will not hear.” (#Isaiah 59:1-3) \\nAfter #LordJesus left,James put iniquities as this:”But every man is tempted,when he is drawn away of his own lust,and enticed.Then when lust has conceived,it brings forth sins:and sin,when it is finished,brings forth death.”(#James 1:14-15)\n"
     ]
    }
   ],
   "source": [
    "file = pd.read_csv('D:/Adata/gettr_posts.csv',iterator=True)\n",
    "while True:\n",
    "    chunk = file.get_chunk(30)\n",
    "    print(chunk)\n",
    "    print('----------------------------------------------')\n",
    "    for v in chunk['txt']:\n",
    "        print(str(v).replace('\\n', '\\\\n'))\n",
    "    break"
   ],
   "metadata": {
    "collapsed": false,
    "pycharm": {
     "name": "#%%\n"
    }
   }
  },
  {
   "cell_type": "markdown",
   "source": [
    "## 读取XML文件"
   ],
   "metadata": {
    "collapsed": false
   }
  },
  {
   "cell_type": "code",
   "execution_count": 2,
   "outputs": [],
   "source": [
    "from xml.dom.minidom import parse\n",
    "import xml.dom.minidom\n",
    "import xml.parsers.expat\n",
    "import pickle\n",
    "import sys"
   ],
   "metadata": {
    "collapsed": false,
    "pycharm": {
     "name": "#%%\n"
    }
   }
  },
  {
   "cell_type": "code",
   "execution_count": 65,
   "outputs": [
    {
     "ename": "FileNotFoundError",
     "evalue": "[Errno 2] No such file or directory: 'movies.xml'",
     "output_type": "error",
     "traceback": [
      "\u001B[1;31m---------------------------------------------------------------------------\u001B[0m",
      "\u001B[1;31mFileNotFoundError\u001B[0m                         Traceback (most recent call last)",
      "\u001B[1;32m<ipython-input-65-cbadcf0da9cc>\u001B[0m in \u001B[0;36m<module>\u001B[1;34m()\u001B[0m\n\u001B[0;32m     24\u001B[0m         \u001B[0mprint\u001B[0m \u001B[1;33m(\u001B[0m\u001B[1;34m'data is '\u001B[0m\u001B[1;33m+\u001B[0m\u001B[0mdata\u001B[0m\u001B[1;33m)\u001B[0m\u001B[1;33m\u001B[0m\u001B[0m\n\u001B[0;32m     25\u001B[0m \u001B[1;33m\u001B[0m\u001B[0m\n\u001B[1;32m---> 26\u001B[1;33m \u001B[0mf\u001B[0m \u001B[1;33m=\u001B[0m \u001B[0mopen\u001B[0m\u001B[1;33m(\u001B[0m\u001B[1;34m\"movies.xml\"\u001B[0m\u001B[1;33m)\u001B[0m\u001B[1;33m\u001B[0m\u001B[0m\n\u001B[0m\u001B[0;32m     27\u001B[0m \u001B[0mdata\u001B[0m \u001B[1;33m=\u001B[0m \u001B[0mf\u001B[0m\u001B[1;33m.\u001B[0m\u001B[0mread\u001B[0m\u001B[1;33m(\u001B[0m\u001B[1;33m)\u001B[0m\u001B[1;33m\u001B[0m\u001B[0m\n\u001B[0;32m     28\u001B[0m \u001B[0mparser\u001B[0m \u001B[1;33m=\u001B[0m \u001B[0mExParser\u001B[0m\u001B[1;33m(\u001B[0m\u001B[0mdata\u001B[0m\u001B[1;33m)\u001B[0m\u001B[1;33m\u001B[0m\u001B[0m\n",
      "\u001B[1;31mFileNotFoundError\u001B[0m: [Errno 2] No such file or directory: 'movies.xml'"
     ]
    }
   ],
   "source": [
    "class ExParser(object):\n",
    "    '''Parse roster xml'''\n",
    "    def __init__(self, xml_raw):\n",
    "        '''init parser and setup handlers'''\n",
    "        self.parser = xml.parsers.expat.ParserCreate()\n",
    "\n",
    "        #connect handlers\n",
    "        self.parser.StartElementHandler = self.start_element\n",
    "        self.parser.EndElementHandler = self.end_element\n",
    "        self.parser.CharacterDataHandler = self.char_data\n",
    "        self.parser.Parse(xml_raw)\n",
    "        del(xml_raw)\n",
    "\n",
    "    def start_element(self, name, attrs):\n",
    "        '''Start xml element handler'''\n",
    "        # print ('start:'+name)\n",
    "\n",
    "    def end_element(self, name):\n",
    "        '''End xml element handler'''\n",
    "        # print ('end:'+name)\n",
    "\n",
    "    def char_data(self, data):\n",
    "        '''Char xml element handler'''\n",
    "        print ('data is '+data)\n",
    "\n",
    "f = open(\"movies.xml\")\n",
    "data = f.read()\n",
    "parser = ExParser(data)"
   ],
   "metadata": {
    "collapsed": false,
    "pycharm": {
     "name": "#%%\n"
    }
   }
  },
  {
   "cell_type": "code",
   "execution_count": null,
   "outputs": [],
   "source": [
    "# 使用minidom解析器打开 XML 文档\n",
    "DOMTree = xml.dom.minidom.parse(\"./数据集/SemEval 2019 Task 4 Hyperpartisan News Detection(超党派新闻检测)/articles-training-bypublisher-20181122.xml\")\n",
    "articless = DOMTree.documentElement\n",
    "if articless.hasAttribute(\"shelf\"):\n",
    "   print (\"Root element : %s\" % articless.getAttribute(\"shelf\"))\n",
    "\n",
    "# 在集合中获取所有电影\n",
    "articles = articless.getElementsByTagName(\"article\")"
   ],
   "metadata": {
    "collapsed": false,
    "pycharm": {
     "name": "#%%\n",
     "is_executing": true
    }
   }
  },
  {
   "cell_type": "code",
   "execution_count": 4,
   "outputs": [],
   "source": [
    "# 打印每部的详细信息\n",
    "sum_docs = 0"
   ],
   "metadata": {
    "collapsed": false,
    "pycharm": {
     "name": "#%%\n"
    }
   }
  },
  {
   "cell_type": "code",
   "execution_count": 5,
   "outputs": [],
   "source": [
    "file_to = open('./MyData/English/Docs/SemEval 2019 Task 4 Hyperpartisan News Detection/SemEval 2019 Task 4 Hyperpartisan News Detection.txt', 'a', encoding='utf-8')\n",
    "for article in articles:\n",
    "    sum_docs = sum_docs + 1\n",
    "    if article.hasAttribute(\"title\"):\n",
    "        file_to.writelines(article.getAttribute(\"title\"))\n",
    "        file_to.writelines('\\n')\n",
    "    ps = article.getElementsByTagName(\"p\")\n",
    "    for p in ps:\n",
    "        # print(p.childNodes[0].nodeType)\n",
    "        if len(p.childNodes)>0:\n",
    "            if p.childNodes[0].nodeType==3:\n",
    "                data = p.childNodes[0].data\n",
    "                if len(data) > 132:\n",
    "                    file_to.writelines(data)\n",
    "                    file_to.writelines('\\n')\n",
    "\n",
    "    file_to.writelines('\\n')\n",
    "file_to.close()\n",
    "#    type = movie.getElementsByTagName('type')[0]\n",
    "#    print (\"Type: %s\" % type.childNodes[0].data)\n",
    "#    format = movie.getElementsByTagName('format')[0]\n",
    "#    print (\"Format: %s\" % format.childNodes[0].data)\n",
    "#    rating = movie.getElementsByTagName('rating')[0]\n",
    "#    print (\"Rating: %s\" % rating.childNodes[0].data)\n",
    "#    description = movie.getElementsByTagName('description')[0]\n",
    "#    print (\"Description: %s\" % description.childNodes[0].data)"
   ],
   "metadata": {
    "collapsed": false,
    "pycharm": {
     "name": "#%%\n"
    }
   }
  },
  {
   "cell_type": "code",
   "execution_count": 73,
   "outputs": [
    {
     "data": {
      "text/plain": "132"
     },
     "execution_count": 73,
     "metadata": {},
     "output_type": "execute_result"
    }
   ],
   "source": [
    "len('Terrifying walls of water from Hurricanes Harvey and Irma, which, when the damage is totaled, could rise to a half trillion dollars.')"
   ],
   "metadata": {
    "collapsed": false,
    "pycharm": {
     "name": "#%%\n"
    }
   }
  },
  {
   "cell_type": "code",
   "execution_count": 2,
   "outputs": [],
   "source": [
    "from xml.etree.ElementTree import iterparse"
   ],
   "metadata": {
    "collapsed": false,
    "pycharm": {
     "name": "#%%\n"
    }
   }
  },
  {
   "cell_type": "code",
   "execution_count": null,
   "outputs": [],
   "source": [
    "# doc = iterparse('./数据集/SemEval 2019 Task 4 Hyperpartisan News Detection(超党派新闻检测)/articles-training-bypublisher-20181122.xml', ('start', 'end'))\n",
    "def parse_and_remove(filename, path):\n",
    "    path_parts = path.split('/')\n",
    "    doc = iterparse(filename, ('start', 'end'))\n",
    "    # Skip the root element\n",
    "    next(doc)\n",
    "\n",
    "    tag_stack = []\n",
    "    elem_stack = []\n",
    "    for event, elem in doc:\n",
    "        if event == 'start':\n",
    "            tag_stack.append(elem.tag)\n",
    "            elem_stack.append(elem)\n",
    "        elif event == 'end':\n",
    "            if tag_stack == path_parts:\n",
    "                yield elem\n",
    "                elem_stack[-2].remove(elem)\n",
    "            try:\n",
    "                tag_stack.pop()\n",
    "                elem_stack.pop()\n",
    "            except IndexError:\n",
    "                pass\n"
   ],
   "metadata": {
    "collapsed": false,
    "pycharm": {
     "name": "#%%\n"
    }
   }
  },
  {
   "cell_type": "code",
   "execution_count": 39,
   "outputs": [],
   "source": [
    "file_to.close()"
   ],
   "metadata": {
    "collapsed": false,
    "pycharm": {
     "name": "#%%\n"
    }
   }
  },
  {
   "cell_type": "code",
   "execution_count": 1,
   "outputs": [],
   "source": [
    "sum_articles = 0"
   ],
   "metadata": {
    "collapsed": false,
    "pycharm": {
     "name": "#%%\n"
    }
   }
  },
  {
   "cell_type": "code",
   "execution_count": 6,
   "outputs": [
    {
     "ename": "KeyError",
     "evalue": "'title'",
     "output_type": "error",
     "traceback": [
      "\u001B[1;31m---------------------------------------------------------------------------\u001B[0m",
      "\u001B[1;31mKeyError\u001B[0m                                  Traceback (most recent call last)",
      "\u001B[1;32m<ipython-input-6-251c04fc822c>\u001B[0m in \u001B[0;36m<module>\u001B[1;34m()\u001B[0m\n\u001B[0;32m      5\u001B[0m         \u001B[1;32mif\u001B[0m \u001B[0melem\u001B[0m\u001B[1;33m.\u001B[0m\u001B[0mtag\u001B[0m \u001B[1;33m==\u001B[0m \u001B[1;34m'article'\u001B[0m\u001B[1;33m:\u001B[0m\u001B[1;33m\u001B[0m\u001B[0m\n\u001B[0;32m      6\u001B[0m             \u001B[0msum_articles\u001B[0m \u001B[1;33m=\u001B[0m \u001B[0msum_articles\u001B[0m \u001B[1;33m+\u001B[0m \u001B[1;36m1\u001B[0m\u001B[1;33m\u001B[0m\u001B[0m\n\u001B[1;32m----> 7\u001B[1;33m             \u001B[0mfile_to\u001B[0m\u001B[1;33m.\u001B[0m\u001B[0mwritelines\u001B[0m\u001B[1;33m(\u001B[0m\u001B[0melem\u001B[0m\u001B[1;33m.\u001B[0m\u001B[0mattrib\u001B[0m\u001B[1;33m[\u001B[0m\u001B[1;34m'title'\u001B[0m\u001B[1;33m]\u001B[0m\u001B[1;33m)\u001B[0m\u001B[1;33m\u001B[0m\u001B[0m\n\u001B[0m\u001B[0;32m      8\u001B[0m             \u001B[0mfile_to\u001B[0m\u001B[1;33m.\u001B[0m\u001B[0mwritelines\u001B[0m\u001B[1;33m(\u001B[0m\u001B[1;34m'\\n'\u001B[0m\u001B[1;33m)\u001B[0m\u001B[1;33m\u001B[0m\u001B[0m\n\u001B[0;32m      9\u001B[0m             \u001B[1;32mfor\u001B[0m \u001B[0mt\u001B[0m \u001B[1;32min\u001B[0m \u001B[0melem\u001B[0m\u001B[1;33m.\u001B[0m\u001B[0mfindall\u001B[0m\u001B[1;33m(\u001B[0m\u001B[1;34m'p'\u001B[0m\u001B[1;33m)\u001B[0m\u001B[1;33m:\u001B[0m\u001B[1;33m\u001B[0m\u001B[0m\n",
      "\u001B[1;31mKeyError\u001B[0m: 'title'"
     ]
    }
   ],
   "source": [
    "doc = iterparse('./数据集/SemEval 2019 Task 4 Hyperpartisan News Detection(超党派新闻检测)/ground-truth-training-bypublisher-20181122.xml', ('start', 'end'))\n",
    "file_to = open('./MyData/English/Docs/SemEval 2019 Task 4 Hyperpartisan News Detection/SemEval 2019 Task 4 Hyperpartisan News Detection.txt', 'a', encoding='utf-8')\n",
    "for event, elem in doc:\n",
    "    if event == 'start':\n",
    "        if elem.tag == 'article':\n",
    "            sum_articles = sum_articles + 1\n",
    "            file_to.writelines(elem.attrib['title'])\n",
    "            file_to.writelines('\\n')\n",
    "            for t in elem.findall('p'):\n",
    "                if len(str(t.text)) > 132:\n",
    "                    file_to.writelines(t.text)\n",
    "                    file_to.writelines('\\n')\n",
    "            file_to.writelines('\\n')\n",
    "    elem.clear()\n",
    "file_to.close()"
   ],
   "metadata": {
    "collapsed": false,
    "pycharm": {
     "name": "#%%\n"
    }
   }
  },
  {
   "cell_type": "markdown",
   "source": [
    "## 读取小文件xml"
   ],
   "metadata": {
    "collapsed": false,
    "pycharm": {
     "name": "#%% md\n"
    }
   }
  },
  {
   "cell_type": "code",
   "execution_count": 17,
   "outputs": [],
   "source": [
    "import xml.etree.ElementTree as ET"
   ],
   "metadata": {
    "collapsed": false,
    "pycharm": {
     "name": "#%%\n"
    }
   }
  },
  {
   "cell_type": "code",
   "execution_count": 18,
   "outputs": [],
   "source": [
    "tree = ET.parse('./数据集/SemEval 2019 Task 4 Hyperpartisan News Detection(超党派新闻检测)/articles-training-byarticle-20181122/articles-training-byarticle-20181122.xml')\n",
    "root = tree.getroot()"
   ],
   "metadata": {
    "collapsed": false,
    "pycharm": {
     "name": "#%%\n"
    }
   }
  },
  {
   "cell_type": "code",
   "execution_count": 21,
   "outputs": [
    {
     "name": "stdout",
     "output_type": "stream",
     "text": [
      "article  ,  {'id': '0000000', 'published-at': '2017-09-10', 'title': 'Kucinich: Reclaiming the money power'}\n",
      "Money ( \n",
      "The walls are closing in on Congress.\n",
      "Terrifying walls of water from Hurricanes Harvey and Irma, which, when the damage is totaled, could rise to a half trillion dollars. The Walls of War: The multi-trillion dollar ongoing cost of Afghanistan, Iraq and other interventions. The crumbling walls of the U.S. infrastructure, which need at least $3 trillion to be repaired or replaced. A wall of 11 million undocumented immigrants, whose deportation could easily cost $200 billion. The planned wall at the Mexican border, which some estimates place at $67 billion. Then there is the Wall of All, the $20 trillion national debt. The walls of debt are closing in.\n",
      "At moments of crisis in our nation, in addition to invoking the assistance of Higher powers, we can call upon the Constitution for guidance.\n",
      "Article I, Section 8, of the U.S. Constitution contains a long-forgotten provision, \"the coinage clause,\" which empowered Congress \"to coin (create) Money.\" The ability to create money to meet the needs of the nation is a sovereign power, which enables a nation to have control of its own destiny.\n",
      "The same article indicates the Founders anticipated having to borrow money on the full faith and credit of the United States. Enter the Funding Act of 1790, which assumed and paid off the debt of the colonies and retired the financial obligations of the newly created states now united. This was a powerful, object lesson in debt retirement, relevant today.\n",
      "It is abundantly clear from a plain reading of the coinage clause that the Founders never intended that the only way the government was to be funded was to borrow money.\n",
      "The needs of the nation were to come from a system of not borrowing wherein money was a neutral value of exchange connecting resources, people and needs, without debt attached.\n",
      "In 1913, the passage of the Federal Reserve Act ceded the constitutional power to create money (and control of our national destiny), to the Federal Reserve, a quasi-private central bank. At this fateful point, the only way money could be brought into being was to borrow it, whereby money became equated with debt. The money system transited from public control to private control, and there it has remained.\n",
      "Instead of following the path set forth by the Founders to create money directly, our government became obliged to borrow from private banks, which assumed the sovereign power to create money from nothing and then loan it to the government, turning on its head the intention of the Founders.\n",
      "As a member of Congress, I came to the conclusion that while the debate over taxation was interesting, it was wholly insufficient. One must first study how money is created, before one can sensibly have a discussion of how it is to be taxed.\n",
      "With the help of staff, I spent a full five years working with legislative counsel to come up with a way to realign with the founding principles, to reclaim and to re-establish for our nation the sovereign power to create money.\n",
      "The vehicle was H.R. 2990, the National Emergency Employment Defense (NEED Act), which articulates why the current debate over the debt ceiling should lead directly to a debate about monetary policy, and the origins of the debt-based economic system.\n",
      "In our work on the NEED Act, we propound that the present monetary system has led to a concentration of wealth, expansion of national debt, excessive reliance on taxation, devaluation of the currency, increases in the cost of public infrastructure, unemployment and underemployment and the erosion of the ability of Congress to meet the needs of the American people.\n",
      "This system has been a source of financial instability where the banks' ability to create money out of nothing has become a financial liability for the American taxpayers. When banks engaged in speculative lending, turning the financial system into a casino, they were bailed out while millions of Americans lost their homes. No surprise that today we are told there is not enough money for creating jobs, rebuilding America, health care, education and retirement security. But there is always money to bail out the banks.\n",
      "Let us take the opportunity afforded in the debate over the debt ceiling to regain control of our sovereignty and our national destiny. We can have a future of abundance instead of poverty, but we must first take down the wall which separates us from our true sovereignty, the power to coin and create money.\n",
      "Let us return to first principles, and reclaim the constitutional power to coin and create United States money and spend it into circulation to meet the needs of the nation and reduce taxes.\n",
      "Two hundred and thirty years ago this month, delegates from 13 states gathered in a constitutional convention, which set the stage for ratification. Let us summon that same revolutionary spirit and its wisdom to guide us in the days ahead.\n",
      "Money ( \n",
      "The walls are closing in on Congress.\n",
      "Terrifying walls of water from Hurricanes Harvey and Irma, which, when the damage is totaled, could rise to a half trillion dollars. The Walls of War: The multi-trillion dollar ongoing cost of Afghanistan, Iraq and other interventions. The crumbling walls of the U.S. infrastructure, which need at least $3 trillion to be repaired or replaced. A wall of 11 million undocumented immigrants, whose deportation could easily cost $200 billion. The planned wall at the Mexican border, which some estimates place at $67 billion. Then there is the Wall of All, the $20 trillion national debt. The walls of debt are closing in.\n",
      "At moments of crisis in our nation, in addition to invoking the assistance of Higher powers, we can call upon the Constitution for guidance.\n",
      "Article I, Section 8, of the U.S. Constitution contains a long-forgotten provision, \"the coinage clause,\" which empowered Congress \"to coin (create) Money.\" The ability to create money to meet the needs of the nation is a sovereign power, which enables a nation to have control of its own destiny.\n",
      "The same article indicates the Founders anticipated having to borrow money on the full faith and credit of the United States. Enter the Funding Act of 1790, which assumed and paid off the debt of the colonies and retired the financial obligations of the newly created states now united. This was a powerful, object lesson in debt retirement, relevant today.\n",
      "It is abundantly clear from a plain reading of the coinage clause that the Founders never intended that the only way the government was to be funded was to borrow money.\n",
      "The needs of the nation were to come from a system of not borrowing wherein money was a neutral value of exchange connecting resources, people and needs, without debt attached.\n",
      "In 1913, the passage of the Federal Reserve Act ceded the constitutional power to create money (and control of our national destiny), to the Federal Reserve, a quasi-private central bank. At this fateful point, the only way money could be brought into being was to borrow it, whereby money became equated with debt. The money system transited from public control to private control, and there it has remained.\n",
      "Instead of following the path set forth by the Founders to create money directly, our government became obliged to borrow from private banks, which assumed the sovereign power to create money from nothing and then loan it to the government, turning on its head the intention of the Founders.\n",
      "As a member of Congress, I came to the conclusion that while the debate over taxation was interesting, it was wholly insufficient. One must first study how money is created, before one can sensibly have a discussion of how it is to be taxed.\n",
      "With the help of staff, I spent a full five years working with legislative counsel to come up with a way to realign with the founding principles, to reclaim and to re-establish for our nation the sovereign power to create money.\n",
      "The vehicle was H.R. 2990, the National Emergency Employment Defense (NEED Act), which articulates why the current debate over the debt ceiling should lead directly to a debate about monetary policy, and the origins of the debt-based economic system.\n",
      "article  ,  {'id': '0000001', 'published-at': '2017-10-12', 'title': 'Trump Just Woke Up & Viciously Attacked Puerto Ricans On Twitter Like A Cruel Old Man'}\n",
      "Donald Trump ran on many braggadocios and largely unrealistic campaign promises. One of \n",
      "That is, unless you’re a brown American. In that case, you’re on your own, even after a massive natural disaster like Hurricane Maria.\n",
      "Puerto Rico’s debt, which the Puerto Rican citizens not in government would have no responsibility for, has nothing to do with using federal emergency disaster funds to save the lives of American citizens there. The infrastructure is certainly a mess at this point after a Category 5 hurricane ripped through the island, and \n",
      "Emergency efforts after Hurricanes Irma and Harvey reportedly went very well and Trump praised himself as well and even saw his disastrous approval ratings tick up slightly as a result. However, the insufficient response in Puerto Rico has nothing to do with Trump, in his mind, and can only be blamed on the people there who do not live in a red state and have no electoral college votes to offer the new president for 2020.\n",
      "They’re on their own.\n",
      "Twitter responded with sheer incredulity at Trump’s vicious attack on an already suffering people.\n",
      "None\n",
      "article  ,  {'id': '0000002', 'published-at': '2017-10-11', 'title': 'Liberals wailing about gun control, but what about abortion?'}\n",
      "In response to Joyce Newman’s recent letter about a conversation about guns: According to the National Right to Life Organization, approximately 600,000 babies are murdered every year by Planned Parenthood with more than 52 million murdered since Roe v. Wade. This makes Planned Parenthood the biggest mass murderer in the history of the world. Is she willing to have a serious conversation about that? Where is her outrage over that?\n",
      "More people die every year from overdoses or auto accidents then from guns. More people die every year from obesity then from guns. Where is her outrage over those issues?\n",
      "The left’s obsession with gun “control” is just that, control. It has always been about Democrats wanting to control every aspect of your life. They support Planned Parenthood but go ballistic when a gun is used to kill someone. It’s the old game of “don’t pay any attention to what’s going on over there, but look what’s happening here.”\n",
      "article  ,  {'id': '0000003', 'published-at': '2017-09-24', 'title': 'Laremy Tunsil joins NFL players in kneeling during national anthem'}\n",
      "After Colin Kaepernick rightly chose to kneel during the national anthem before NFL games, many racists and idiots came out with critical response to what was a peaceful, important statement against police brutality and systemic American racism. That’s what Kap’s protest is about. Brutality and racism. Violence against people of color, unimpugned state violence at that.\n",
      "Kap’s protest is strictly against racism, which is what this country was built on. On the backs of African slaves shipped here catch-style to do white people’s work.\n",
      "Kap’s protest is decidedly not against the American flag. Anyone — including our moron President — that tries to argue otherwise is themselves a moron. “But the troops!” you might scream. The troops are a manifold and variegated thing. \n",
      "Here’s a picture of \n",
      "He kneels at left.\n",
      "Hat off to Tunsil for this action. “Respecting the flag” and “respecting the anthem” before football games are perhaps the dumbest notions floated among sports fans. Sporting events are not flag-worthy at all. Nobody else in the world does this. Further, THESE ATHLETES ARE HUMAN PEOPLE. \n",
      "Tunsil’s politicism is important.\n"
     ]
    }
   ],
   "source": [
    "j = 0\n",
    "for child in root:\n",
    "    print(child.tag, ' , ', child.attrib)\n",
    "    for p in child.findall('p'):\n",
    "        print(p.text)\n",
    "    j = j + 1\n",
    "    if j > 3:\n",
    "        break"
   ],
   "metadata": {
    "collapsed": false,
    "pycharm": {
     "name": "#%%\n"
    }
   }
  }
 ],
 "metadata": {
  "kernelspec": {
   "display_name": "Python 3",
   "language": "python",
   "name": "python3"
  },
  "language_info": {
   "codemirror_mode": {
    "name": "ipython",
    "version": 2
   },
   "file_extension": ".py",
   "mimetype": "text/x-python",
   "name": "python",
   "nbconvert_exporter": "python",
   "pygments_lexer": "ipython2",
   "version": "2.7.6"
  }
 },
 "nbformat": 4,
 "nbformat_minor": 0
}