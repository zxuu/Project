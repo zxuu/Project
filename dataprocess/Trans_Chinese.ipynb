{
 "cells": [
  {
   "cell_type": "code",
   "execution_count": 3,
   "metadata": {
    "collapsed": true
   },
   "outputs": [],
   "source": [
    "# from typing import Tuple, List\n",
    "import json\n",
    "# import ijson\n",
    "import pandas as pd\n",
    "\n",
    "import re\n",
    "# import emoji\n",
    "# import nltk\n",
    "import os"
   ]
  },
  {
   "cell_type": "code",
   "execution_count": 12,
   "metadata": {
    "collapsed": false,
    "pycharm": {
     "name": "#%%\n"
    }
   },
   "outputs": [],
   "source": [
    "# 定义一个读取数据的类\n",
    "class DataReader(object):\n",
    "    def read_file(file_path: str,\n",
    "                  text_index: int = 0,\n",
    "                  label_index: int = 1) -> Tuple[List[List[str]], List[List[str]]]:\n",
    "        \"\"\"\n",
    "        根据文件路径读取训练数据、测试数据以及验证数据的text和label\n",
    "        \"\"\"\n",
    "        x_cent, y_cent = [], []\n",
    "        with open(file_path, 'r', encoding='utf-8') as f:\n",
    "            lines = f.read().splitlines()  # 以splitlines的方式获取数据\n",
    "            x_token, y_token = [], []\n",
    "            for line in lines:\n",
    "                rows = line.split('\\t')  # 以键格进行切分\n",
    "                if len(rows) != 2: # 如果遇到换行符，另一个句子\n",
    "                    x_cent.append(x_token)\n",
    "                    y_cent.append(y_token)\n",
    "                    x_token = []\n",
    "                    y_token = []\n",
    "                else:\n",
    "                    x_token.append(rows[text_index])\n",
    "                    y_token.append(rows[label_index])\n",
    "        return x_cent, y_cent"
   ]
  },
  {
   "cell_type": "code",
   "execution_count": 25,
   "metadata": {
    "collapsed": false,
    "pycharm": {
     "name": "#%%\n"
    }
   },
   "outputs": [],
   "source": [
    "data_colu, y_colu = DataReader.read_file('./数据集/NER/MSRA命名实体识别数据集/MSRA命名实体识别数据集/test.txt')"
   ]
  },
  {
   "cell_type": "code",
   "execution_count": 14,
   "metadata": {
    "collapsed": false,
    "pycharm": {
     "name": "#%%\n"
    }
   },
   "outputs": [
    {
     "data": {
      "text/plain": [
       "[['当',\n",
       "  '希',\n",
       "  '望',\n",
       "  '工',\n",
       "  '程',\n",
       "  '救',\n",
       "  '助',\n",
       "  '的',\n",
       "  '百',\n",
       "  '万',\n",
       "  '儿',\n",
       "  '童',\n",
       "  '成',\n",
       "  '长',\n",
       "  '起',\n",
       "  '来',\n",
       "  '，',\n",
       "  '科',\n",
       "  '教',\n",
       "  '兴',\n",
       "  '国',\n",
       "  '蔚',\n",
       "  '然',\n",
       "  '成',\n",
       "  '风',\n",
       "  '时',\n",
       "  '，',\n",
       "  '今',\n",
       "  '天',\n",
       "  '有',\n",
       "  '收',\n",
       "  '藏',\n",
       "  '价',\n",
       "  '值',\n",
       "  '的',\n",
       "  '书',\n",
       "  '你',\n",
       "  '没',\n",
       "  '买',\n",
       "  '，',\n",
       "  '明',\n",
       "  '日',\n",
       "  '就',\n",
       "  '叫',\n",
       "  '你',\n",
       "  '悔',\n",
       "  '不',\n",
       "  '当',\n",
       "  '初',\n",
       "  '！'],\n",
       " ['藏',\n",
       "  '书',\n",
       "  '本',\n",
       "  '来',\n",
       "  '就',\n",
       "  '是',\n",
       "  '所',\n",
       "  '有',\n",
       "  '传',\n",
       "  '统',\n",
       "  '收',\n",
       "  '藏',\n",
       "  '门',\n",
       "  '类',\n",
       "  '中',\n",
       "  '的',\n",
       "  '第',\n",
       "  '一',\n",
       "  '大',\n",
       "  '户',\n",
       "  '，',\n",
       "  '只',\n",
       "  '是',\n",
       "  '我',\n",
       "  '们',\n",
       "  '结',\n",
       "  '束',\n",
       "  '温',\n",
       "  '饱',\n",
       "  '的',\n",
       "  '时',\n",
       "  '间',\n",
       "  '太',\n",
       "  '短',\n",
       "  '而',\n",
       "  '已',\n",
       "  '。']]"
      ]
     },
     "execution_count": 14,
     "metadata": {},
     "output_type": "execute_result"
    }
   ],
   "source": [
    "data_colu[:2]"
   ]
  },
  {
   "cell_type": "code",
   "execution_count": 7,
   "metadata": {
    "collapsed": false,
    "pycharm": {
     "name": "#%%\n"
    }
   },
   "outputs": [],
   "source": [
    "# 定义一个读取数据的类\n",
    "x_cent, y_cent = [], []\n",
    "f = open('./数据集/NER/pd1998.txt(词性标注)/pd1998.txt', 'r', encoding='utf-8')\n",
    "lines = f.readlines()\n",
    "for line in lines:\n",
    "    x = []\n",
    "    row = line.split('  ')\n",
    "    del row[-1]\n",
    "    for i,e in enumerate(row):\n",
    "        if i>0:\n",
    "            x.append(e.split('/')[0])\n",
    "    x_cent.append(x)\n",
    "f.close()"
   ]
  },
  {
   "cell_type": "code",
   "execution_count": 10,
   "metadata": {
    "collapsed": false,
    "pycharm": {
     "name": "#%%\n"
    }
   },
   "outputs": [],
   "source": [
    "i=0\n",
    "for j in x_cent:\n",
    "    if len(j)==0:\n",
    "        i = i+1"
   ]
  },
  {
   "cell_type": "code",
   "execution_count": 11,
   "metadata": {
    "collapsed": false,
    "pycharm": {
     "name": "#%%\n"
    }
   },
   "outputs": [
    {
     "data": {
      "text/plain": [
       "3580"
      ]
     },
     "execution_count": 11,
     "metadata": {},
     "output_type": "execute_result"
    }
   ],
   "source": [
    "i"
   ]
  },
  {
   "attachments": {},
   "cell_type": "markdown",
   "metadata": {
    "collapsed": false,
    "pycharm": {
     "name": "#%% md\n"
    }
   },
   "source": [
    "## 小文件按行读取"
   ]
  },
  {
   "cell_type": "code",
   "execution_count": 32,
   "metadata": {
    "collapsed": false,
    "pycharm": {
     "name": "#%%\n"
    }
   },
   "outputs": [],
   "source": [
    "sum_docs = 0\n",
    "file_from = open('./数据集/EvMine-data/hkprotest/corpus_with_title.txt', 'r', encoding='utf-8')\n",
    "file_to = open('./MyData/English/Docs/HK_Protest/hk_protest_news.txt', 'a', encoding='utf-8')\n",
    "lines = file_from.readlines()\n",
    "for line in lines:\n",
    "    title,content = line.split('\\t')\n",
    "    file_to.writelines(title)\n",
    "    file_to.writelines('\\n')\n",
    "    file_to.writelines(content)\n",
    "    sum_docs = sum_docs + 1\n",
    "    file_to.writelines('\\n')\n",
    "\n",
    "file_from.close()\n",
    "file_to.close()"
   ]
  },
  {
   "cell_type": "code",
   "execution_count": 29,
   "metadata": {
    "collapsed": false,
    "pycharm": {
     "name": "#%%\n"
    }
   },
   "outputs": [],
   "source": [
    "data_split = []\n",
    "for line in data:\n",
    "    l = re.split('[ \\n]', line)\n",
    "    del l[-1]\n",
    "    data_split.append(l)"
   ]
  },
  {
   "cell_type": "code",
   "execution_count": 30,
   "metadata": {
    "collapsed": false,
    "pycharm": {
     "name": "#%%\n"
    }
   },
   "outputs": [
    {
     "data": {
      "text/plain": [
       "[['人',\n",
       "  '民',\n",
       "  '网',\n",
       "  '1',\n",
       "  '月',\n",
       "  '1',\n",
       "  '日',\n",
       "  '讯',\n",
       "  '据',\n",
       "  '《',\n",
       "  '纽',\n",
       "  '约',\n",
       "  '时',\n",
       "  '报',\n",
       "  '》',\n",
       "  '报',\n",
       "  '道',\n",
       "  ',',\n",
       "  '美',\n",
       "  '国',\n",
       "  '华',\n",
       "  '尔',\n",
       "  '街',\n",
       "  '股',\n",
       "  '市',\n",
       "  '在',\n",
       "  '2',\n",
       "  '0',\n",
       "  '1',\n",
       "  '3',\n",
       "  '年',\n",
       "  '的',\n",
       "  '最',\n",
       "  '后',\n",
       "  '一',\n",
       "  '天',\n",
       "  '继',\n",
       "  '续',\n",
       "  '上',\n",
       "  '涨',\n",
       "  ',',\n",
       "  '和',\n",
       "  '全',\n",
       "  '球',\n",
       "  '股',\n",
       "  '市',\n",
       "  '一',\n",
       "  '样',\n",
       "  ',',\n",
       "  '都',\n",
       "  '以',\n",
       "  '最',\n",
       "  '高',\n",
       "  '纪',\n",
       "  '录',\n",
       "  '或',\n",
       "  '接',\n",
       "  '近',\n",
       "  '最',\n",
       "  '高',\n",
       "  '纪',\n",
       "  '录',\n",
       "  '结',\n",
       "  '束',\n",
       "  '本',\n",
       "  '年',\n",
       "  '的',\n",
       "  '交',\n",
       "  '易',\n",
       "  '。'],\n",
       " ['《',\n",
       "  '纽',\n",
       "  '约',\n",
       "  '时',\n",
       "  '报',\n",
       "  '》',\n",
       "  '报',\n",
       "  '道',\n",
       "  '说',\n",
       "  ',',\n",
       "  '标',\n",
       "  '普',\n",
       "  '5',\n",
       "  '0',\n",
       "  '0',\n",
       "  '指',\n",
       "  '数',\n",
       "  '今',\n",
       "  '年',\n",
       "  '上',\n",
       "  '升',\n",
       "  '2',\n",
       "  '9',\n",
       "  '.',\n",
       "  '6',\n",
       "  '%',\n",
       "  ',',\n",
       "  '为',\n",
       "  '1',\n",
       "  '9',\n",
       "  '9',\n",
       "  '7',\n",
       "  '年',\n",
       "  '以',\n",
       "  '来',\n",
       "  '的',\n",
       "  '最',\n",
       "  '大',\n",
       "  '涨',\n",
       "  '幅',\n",
       "  ';',\n",
       "  '道',\n",
       "  '琼',\n",
       "  '斯',\n",
       "  '工',\n",
       "  '业',\n",
       "  '平',\n",
       "  '均',\n",
       "  '指',\n",
       "  '数',\n",
       "  '上',\n",
       "  '升',\n",
       "  '2',\n",
       "  '6',\n",
       "  '.',\n",
       "  '5',\n",
       "  '%',\n",
       "  ',',\n",
       "  '为',\n",
       "  '1',\n",
       "  '9',\n",
       "  '9',\n",
       "  '6',\n",
       "  '年',\n",
       "  '以',\n",
       "  '来',\n",
       "  '的',\n",
       "  '最',\n",
       "  '大',\n",
       "  '涨',\n",
       "  '幅',\n",
       "  ';',\n",
       "  '纳',\n",
       "  '斯',\n",
       "  '达',\n",
       "  '克',\n",
       "  '上',\n",
       "  '涨',\n",
       "  '3',\n",
       "  '8',\n",
       "  '.',\n",
       "  '3',\n",
       "  '%',\n",
       "  '。']]"
      ]
     },
     "execution_count": 30,
     "metadata": {},
     "output_type": "execute_result"
    }
   ],
   "source": [
    "data_split[:2]"
   ]
  },
  {
   "attachments": {},
   "cell_type": "markdown",
   "metadata": {
    "collapsed": false,
    "pycharm": {
     "name": "#%% md\n"
    }
   },
   "source": [
    "## 按行读取JSON文件"
   ]
  },
  {
   "cell_type": "code",
   "execution_count": 13,
   "metadata": {
    "collapsed": false,
    "pycharm": {
     "name": "#%%\n"
    }
   },
   "outputs": [],
   "source": [
    "sum = 0"
   ]
  },
  {
   "cell_type": "code",
   "execution_count": 6,
   "metadata": {
    "collapsed": false,
    "pycharm": {
     "name": "#%%\n"
    }
   },
   "outputs": [],
   "source": [
    "import json\n",
    "sum=0\n",
    "file_to = open('E:/A文本标注/数据集/A Multilingual Twitter Dataset of News Media on the Russo-Ukrainian Conflict/temp.txt', 'a', encoding='utf-8')\n",
    "for line in open('E:/A文本标注/数据集/A Multilingual Twitter Dataset of News Media on the Russo-Ukrainian Conflict/dataset_zenodo.jsonl','r',encoding='utf-8'):\n",
    "    json_data = json.loads(line)\n",
    "    if len(json_data['stanza_output']) == 0:\n",
    "        continue\n",
    "    word_list_dic = json_data['stanza_output'][0]\n",
    "    \n",
    "    leng = len(word_list_dic)\n",
    "    # print(word_list_dic)\n",
    "    for i in range(leng):\n",
    "        if i == leng-1:\n",
    "            file_to.writelines(word_list_dic[i]['text'])\n",
    "            file_to.writelines('\\n')\n",
    "            continue\n",
    "        file_to.writelines(word_list_dic[i]['text'])\n",
    "        file_to.writelines(' ')\n",
    "    # file_to.writelines(json_data['sentence']\n",
    "    # file_to.writelines('\\n')\n",
    "\n",
    "file_to.close()"
   ]
  },
  {
   "cell_type": "code",
   "execution_count": 5,
   "metadata": {
    "collapsed": false,
    "pycharm": {
     "name": "#%%\n"
    }
   },
   "outputs": [],
   "source": [
    "file_to.close()"
   ]
  },
  {
   "cell_type": "code",
   "execution_count": 28,
   "metadata": {
    "collapsed": false,
    "pycharm": {
     "name": "#%%\n"
    }
   },
   "outputs": [],
   "source": [
    "data_json = []\n",
    "for dic in json_data:\n",
    "    t = dic['简介']\n",
    "    if t!='':\n",
    "        data_json.append(t)\n",
    "        # data_json.append(t)\n",
    "    # data_json.append(dic['article_content'])\n",
    "    # data_json.append([])"
   ]
  },
  {
   "cell_type": "code",
   "execution_count": null,
   "metadata": {
    "collapsed": false,
    "pycharm": {
     "name": "#%%\n"
    }
   },
   "outputs": [],
   "source": [
    "data_json[2]"
   ]
  },
  {
   "attachments": {},
   "cell_type": "markdown",
   "metadata": {
    "collapsed": false,
    "pycharm": {
     "name": "#%% md\n"
    }
   },
   "source": [
    "# 写入"
   ]
  },
  {
   "cell_type": "code",
   "execution_count": 29,
   "metadata": {
    "collapsed": false,
    "pycharm": {
     "name": "#%%\n"
    }
   },
   "outputs": [],
   "source": [
    "d = data_json\n",
    "file = open('./MyData/Chinese/NER/Military/装备简介.txt', 'a', encoding='utf-8')\n",
    "length = len(d)\n",
    "# file.writelines('\\n')\n",
    "for i,centen in enumerate(d):\n",
    "    file.writelines(centen)\n",
    "    # if i<length-1:\n",
    "    #     file.writelines('\\n')\n",
    "file.close()"
   ]
  },
  {
   "cell_type": "code",
   "execution_count": null,
   "metadata": {
    "collapsed": false,
    "pycharm": {
     "name": "#%%\n"
    }
   },
   "outputs": [],
   "source": [
    "length\n"
   ]
  },
  {
   "attachments": {},
   "cell_type": "markdown",
   "metadata": {
    "collapsed": false
   },
   "source": [
    "## 读取大的CSV文件"
   ]
  },
  {
   "cell_type": "code",
   "execution_count": 8,
   "metadata": {
    "collapsed": false,
    "pycharm": {
     "name": "#%%\n"
    }
   },
   "outputs": [],
   "source": [
    "sum_line = 0"
   ]
  },
  {
   "cell_type": "code",
   "execution_count": 28,
   "metadata": {
    "collapsed": false,
    "pycharm": {
     "name": "#%%\n"
    }
   },
   "outputs": [],
   "source": [
    "file_write = open('./MyData/English/Docs/NJLG_news/MilitrayNews.txt', 'a', encoding='utf-8')\n",
    "for chunk in pd.read_csv('./数据集/其他/CrossCulturalData.csv', chunksize=20):\n",
    "    for new in chunk['文本']:\n",
    "        file_write.writelines(new.strip().replace('\\n', ''))\n",
    "        sum_line = sum_line + 1\n",
    "        file_write.writelines('\\n')\n",
    "        file_write.writelines('\\n')\n",
    "    # for comment in chunk['txt']:\n",
    "    #     file_gettr.writelines(str(comment).replace('\\n', '\\\\n'))\n",
    "    #     sum_line = sum_line + 1\n",
    "    #     file_gettr.writelines('\\n')\n",
    "\n",
    "file_write.close()"
   ]
  },
  {
   "attachments": {},
   "cell_type": "markdown",
   "metadata": {
    "collapsed": false
   },
   "source": [
    "## 读取小的CSV文件"
   ]
  },
  {
   "cell_type": "code",
   "execution_count": 53,
   "metadata": {
    "collapsed": false,
    "pycharm": {
     "name": "#%%\n"
    }
   },
   "outputs": [
    {
     "name": "stdout",
     "output_type": "stream",
     "text": [
      "242\n"
     ]
    }
   ],
   "source": [
    "sum_line = 0\n",
    "file_write = open('E:\\A文本标注\\My_Data\\data1\\中文\\\\2019yx浜嬩欢.txt', 'a', encoding='utf-8')\n",
    "for chunk in pd.read_csv('E:\\A文本标注\\数据集\\\\2019yx事件\\\\2019yx浜嬩欢.csv', chunksize=20):\n",
    "    for new in chunk['事件内容']:\n",
    "        new = str(new).strip()\n",
    "        if new!='':\n",
    "            for line in new.replace('\\n','').split('。'):\n",
    "                line = line.strip().replace(' ','').replace('    ','').replace('　','')\n",
    "                if line!='' and len(line)>10:\n",
    "                    file_write.writelines(line)\n",
    "                    file_write.writelines('\\n')\n",
    "                    sum_line = sum_line + 1\n",
    "        # if sum_line>6:\n",
    "        #     break\n",
    "    # for comment in chunk['txt']:\n",
    "    #     file_gettr.writelines(str(comment).replace('\\n', '\\\\n'))\n",
    "    #     sum_line = sum_line + 1\n",
    "    #     file_gettr.writelines('\\n')\n",
    "\n",
    "file_write.close()\n",
    "print(sum_line)"
   ]
  },
  {
   "cell_type": "code",
   "execution_count": 51,
   "metadata": {
    "collapsed": false,
    "pycharm": {
     "name": "#%%\n"
    }
   },
   "outputs": [],
   "source": [
    "file_write.close()\n"
   ]
  },
  {
   "cell_type": "code",
   "execution_count": 25,
   "metadata": {},
   "outputs": [
    {
     "data": {
      "text/plain": [
       "8"
      ]
     },
     "execution_count": 25,
     "metadata": {},
     "output_type": "execute_result"
    }
   ],
   "source": [
    "len('[\t责编：杨煜]')"
   ]
  }
 ],
 "metadata": {
  "kernelspec": {
   "display_name": "Python 3",
   "language": "python",
   "name": "python3"
  },
  "language_info": {
   "codemirror_mode": {
    "name": "ipython",
    "version": 3
   },
   "file_extension": ".py",
   "mimetype": "text/x-python",
   "name": "python",
   "nbconvert_exporter": "python",
   "pygments_lexer": "ipython3",
   "version": "3.7.15"
  }
 },
 "nbformat": 4,
 "nbformat_minor": 0
}
